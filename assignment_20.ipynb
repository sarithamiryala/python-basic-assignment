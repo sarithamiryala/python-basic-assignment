{
 "cells": [
  {
   "cell_type": "markdown",
   "id": "a0f61803",
   "metadata": {},
   "source": [
    "\n",
    "1.Set the variable test1 to the string 'This is a test of the emergency text system,' and save test1 to a file named test.txt."
   ]
  },
  {
   "cell_type": "code",
   "execution_count": 2,
   "id": "9734edde",
   "metadata": {},
   "outputs": [],
   "source": [
    "db = sqlite3.connect('newdata.db')"
   ]
  },
  {
   "cell_type": "code",
   "execution_count": 1,
   "id": "34aeee1f",
   "metadata": {},
   "outputs": [],
   "source": [
    "test1 = 'This is a test of the emergency text system'\n",
    "f =open('test.txt','w')\n",
    "f.write(test1)\n",
    "f.close()"
   ]
  },
  {
   "cell_type": "code",
   "execution_count": 2,
   "id": "4aacdf46",
   "metadata": {},
   "outputs": [
    {
     "data": {
      "text/plain": [
       "'This is a test of the emergency text system'"
      ]
     },
     "execution_count": 2,
     "metadata": {},
     "output_type": "execute_result"
    }
   ],
   "source": [
    "test1"
   ]
  },
  {
   "cell_type": "code",
   "execution_count": 3,
   "id": "cfe04dff",
   "metadata": {},
   "outputs": [
    {
     "name": "stdout",
     "output_type": "stream",
     "text": [
      " Volume in drive C is Windows\n",
      " Volume Serial Number is 6A64-9A68\n",
      "\n",
      " Directory of C:\\Users\\SAMARTH\\Desktop\\phd\\ineuron\\Assignments\\python basic assignment\n",
      "\n",
      "23-02-2022  14:04    <DIR>          .\n",
      "18-02-2022  14:56    <DIR>          ..\n",
      "23-02-2022  14:03    <DIR>          .ipynb_checkpoints\n",
      "04-02-2022  16:39    <DIR>          __pycache__\n",
      "29-01-2022  22:14         3,666,293 abc.pdf\n",
      "29-01-2022  23:22                 0 abcd.docx\n",
      "14-12-2021  17:17             1,891 Assignment1\n",
      "29-01-2022  23:08             6,259 Assignment10.ipynb\n",
      "01-02-2022  13:20            10,602 Assignment11.ipynb\n",
      "29-01-2022  23:58            11,236 Assignment12.ipynb\n",
      "08-02-2022  13:13             2,709 Assignment13.ipynb\n",
      "05-02-2022  22:09             3,012 Assignment14.ipynb\n",
      "31-01-2022  16:35             5,673 Assignment15.ipynb\n",
      "01-02-2022  22:32            11,190 Assignment16.ipynb\n",
      "04-02-2022  16:27             8,325 Assignment17.ipynb\n",
      "04-02-2022  16:57             8,167 Assignment18.ipynb\n",
      "05-02-2022  21:46            12,576 Assignment19.ipynb\n",
      "14-12-2021  21:19             1,579 Assignment2\n",
      "23-02-2022  12:07            20,316 Assignment20.ipynb\n",
      "07-02-2022  16:56             8,226 Assignment21.ipynb\n",
      "31-01-2022  15:17             5,277 Assignment22.ipynb\n",
      "31-01-2022  15:37             4,093 Assignment23.ipynb\n",
      "21-02-2022  11:25             7,363 Assignment24.ipynb\n",
      "16-02-2022  13:04             3,082 Assignment25.ipynb\n",
      "12-01-2022  10:54             4,806 Assignment3.ipynb\n",
      "19-12-2021  16:38             1,716 Assignment4\n",
      "30-12-2021  14:12             4,512 Assignment5.ipynb\n",
      "23-12-2021  17:38             7,286 Assignment6.ipynb\n",
      "21-02-2022  11:40             4,779 Assignment7.ipynb\n",
      "28-01-2022  21:50            11,732 Assignment8.ipynb\n",
      "28-01-2022  22:30             3,329 Assignment9.ipynb\n",
      "23-02-2022  11:22               243 books.csv\n",
      "23-02-2022  11:38            16,384 books.db\n",
      "23-02-2022  11:45             8,192 books1.db\n",
      "23-02-2022  11:46             4,616 books1.db-journal\n",
      "23-02-2022  11:51             8,192 books2.db\n",
      "29-01-2022  22:14         1,034,172 breastcancer.pdf\n",
      "29-01-2022  19:09                31 change_test2.txt\n",
      "29-01-2022  19:56                22 example_file.zip\n",
      "29-01-2022  23:45            36,634 headings.docx\n",
      "29-01-2022  23:39            36,589 helloworld.docx\n",
      "29-01-2022  19:57                22 ineuron_fsds.zip\n",
      "23-02-2022  10:31             3,867 iris.csv\n",
      "07-02-2022  16:51                 0 multi.py\n",
      "23-02-2022  14:03            16,384 new_database.db\n",
      "23-02-2022  11:08            16,384 newdata.db\n",
      "23-02-2022  14:04            17,765 sqlite_csv_irisdata.ipynb\n",
      "23-02-2022  10:36            23,661 sqlitepractice.ipynb\n",
      "23-02-2022  12:10            20,658 sqllite_csvfile.ipynb\n",
      "23-02-2022  14:04                43 test.txt\n",
      "07-02-2022  16:56                10 today.txt\n",
      "14-12-2021  17:11             1,613 Untitled.ipynb\n",
      "14-12-2021  21:17             1,445 Untitled1.ipynb\n",
      "19-12-2021  15:09                72 Untitled2.ipynb\n",
      "19-12-2021  16:36            11,588 Untitled3.ipynb\n",
      "04-02-2022  16:35                72 Untitled4.ipynb\n",
      "04-02-2022  16:57                 0 zoo.py\n",
      "              53 File(s)      5,094,688 bytes\n",
      "               4 Dir(s)  29,135,179,776 bytes free\n"
     ]
    }
   ],
   "source": [
    "ls"
   ]
  },
  {
   "cell_type": "code",
   "execution_count": 5,
   "id": "ec36f5f8",
   "metadata": {},
   "outputs": [
    {
     "data": {
      "text/plain": [
       "<sqlite3.Cursor at 0x1f33d1cd570>"
      ]
     },
     "execution_count": 5,
     "metadata": {},
     "output_type": "execute_result"
    }
   ],
   "source": [
    "cursor.execute('create table iris_data(sepal_length float, sepal_width float, petal_length float, petal_width float, species text)')"
   ]
  },
  {
   "cell_type": "markdown",
   "id": "1d308593",
   "metadata": {},
   "source": [
    "2. Read the contents of the file test.txt into the variable test2. Is there a difference between test 1\n",
    "and test 2?"
   ]
  },
  {
   "cell_type": "code",
   "execution_count": 4,
   "id": "1ad2314b",
   "metadata": {},
   "outputs": [],
   "source": [
    "f = open('test.txt','r')"
   ]
  },
  {
   "cell_type": "code",
   "execution_count": 5,
   "id": "119aa00d",
   "metadata": {},
   "outputs": [],
   "source": [
    "test2 = f.read()"
   ]
  },
  {
   "cell_type": "code",
   "execution_count": 6,
   "id": "7c92d460",
   "metadata": {},
   "outputs": [
    {
     "data": {
      "text/plain": [
       "'This is a test of the emergency text system'"
      ]
     },
     "execution_count": 6,
     "metadata": {},
     "output_type": "execute_result"
    }
   ],
   "source": [
    "test2"
   ]
  },
  {
   "cell_type": "markdown",
   "id": "b3a2d640",
   "metadata": {},
   "source": [
    "no difference between test1 and test2"
   ]
  },
  {
   "cell_type": "code",
   "execution_count": 7,
   "id": "f56be737",
   "metadata": {},
   "outputs": [],
   "source": [
    "f.close()"
   ]
  },
  {
   "cell_type": "markdown",
   "id": "20881150",
   "metadata": {},
   "source": [
    "3. Create a CSV file called books.csv by using these lines:\n",
    "title,author,year\n",
    "The Weirdstone of Brisingamen,Alan Garner,1960\n",
    "Perdido Street Station,China Miéville,2000\n",
    "Thud!,Terry Pratchett,2005\n",
    "The Spellman Files,Lisa Lutz,2007\n",
    "Small Gods,Terry Pratchett,1992"
   ]
  },
  {
   "cell_type": "code",
   "execution_count": 8,
   "id": "6f8213bf",
   "metadata": {},
   "outputs": [],
   "source": [
    "import csv"
   ]
  },
  {
   "cell_type": "code",
   "execution_count": 9,
   "id": "d11470ad",
   "metadata": {},
   "outputs": [],
   "source": [
    "header = [\"title\",\"author\",\"year\"]"
   ]
  },
  {
   "cell_type": "code",
   "execution_count": 10,
   "id": "c20b7a44",
   "metadata": {},
   "outputs": [],
   "source": [
    "data = [\n",
    "    [\"The Weirdstone of Brisingamen\",\"Alan Garner\",1960 ],\n",
    "    [\"Perdido Street Station\",\"China Miéville\",2000],\n",
    "    [\"Thud!\",\"Terry Pratchett\",2005],\n",
    "    [\"The Spellman Files\",\"Lisa Lutz\",2007],\n",
    "    [\"The Spellman Files\",\"Lisa Lutz\",2007],\n",
    "    [\"Small Gods\",\"Terry Pratchett\",1992]  \n",
    "]"
   ]
  },
  {
   "cell_type": "code",
   "execution_count": 11,
   "id": "24c79164",
   "metadata": {},
   "outputs": [],
   "source": [
    "with open(\"books.csv\",\"w\", encoding='UTF8', newline='') as f:\n",
    "    writer = csv.writer(f)\n",
    "    writer.writerow(header)\n",
    "    writer.writerows(data)"
   ]
  },
  {
   "cell_type": "code",
   "execution_count": 12,
   "id": "2d826bb6",
   "metadata": {},
   "outputs": [
    {
     "name": "stdout",
     "output_type": "stream",
     "text": [
      " Volume in drive C is Windows\n",
      " Volume Serial Number is 6A64-9A68\n",
      "\n",
      " Directory of C:\\Users\\SAMARTH\\Desktop\\phd\\ineuron\\Assignments\\python basic assignment\n",
      "\n",
      "23-02-2022  14:07    <DIR>          .\n",
      "18-02-2022  14:56    <DIR>          ..\n",
      "23-02-2022  14:03    <DIR>          .ipynb_checkpoints\n",
      "04-02-2022  16:39    <DIR>          __pycache__\n",
      "29-01-2022  22:14         3,666,293 abc.pdf\n",
      "29-01-2022  23:22                 0 abcd.docx\n",
      "14-12-2021  17:17             1,891 Assignment1\n",
      "29-01-2022  23:08             6,259 Assignment10.ipynb\n",
      "01-02-2022  13:20            10,602 Assignment11.ipynb\n",
      "29-01-2022  23:58            11,236 Assignment12.ipynb\n",
      "08-02-2022  13:13             2,709 Assignment13.ipynb\n",
      "05-02-2022  22:09             3,012 Assignment14.ipynb\n",
      "31-01-2022  16:35             5,673 Assignment15.ipynb\n",
      "01-02-2022  22:32            11,190 Assignment16.ipynb\n",
      "04-02-2022  16:27             8,325 Assignment17.ipynb\n",
      "04-02-2022  16:57             8,167 Assignment18.ipynb\n",
      "05-02-2022  21:46            12,576 Assignment19.ipynb\n",
      "14-12-2021  21:19             1,579 Assignment2\n",
      "23-02-2022  12:07            20,316 Assignment20.ipynb\n",
      "07-02-2022  16:56             8,226 Assignment21.ipynb\n",
      "31-01-2022  15:17             5,277 Assignment22.ipynb\n",
      "31-01-2022  15:37             4,093 Assignment23.ipynb\n",
      "21-02-2022  11:25             7,363 Assignment24.ipynb\n",
      "16-02-2022  13:04             3,082 Assignment25.ipynb\n",
      "12-01-2022  10:54             4,806 Assignment3.ipynb\n",
      "19-12-2021  16:38             1,716 Assignment4\n",
      "30-12-2021  14:12             4,512 Assignment5.ipynb\n",
      "23-12-2021  17:38             7,286 Assignment6.ipynb\n",
      "21-02-2022  11:40             4,779 Assignment7.ipynb\n",
      "28-01-2022  21:50            11,732 Assignment8.ipynb\n",
      "28-01-2022  22:30             3,329 Assignment9.ipynb\n",
      "23-02-2022  14:08               243 books.csv\n",
      "23-02-2022  11:38            16,384 books.db\n",
      "23-02-2022  11:45             8,192 books1.db\n",
      "23-02-2022  11:46             4,616 books1.db-journal\n",
      "23-02-2022  11:51             8,192 books2.db\n",
      "29-01-2022  22:14         1,034,172 breastcancer.pdf\n",
      "29-01-2022  19:09                31 change_test2.txt\n",
      "29-01-2022  19:56                22 example_file.zip\n",
      "29-01-2022  23:45            36,634 headings.docx\n",
      "29-01-2022  23:39            36,589 helloworld.docx\n",
      "29-01-2022  19:57                22 ineuron_fsds.zip\n",
      "23-02-2022  10:31             3,867 iris.csv\n",
      "07-02-2022  16:51                 0 multi.py\n",
      "23-02-2022  14:03            16,384 new_database.db\n",
      "23-02-2022  11:08            16,384 newdata.db\n",
      "23-02-2022  14:04            17,765 sqlite_csv_irisdata.ipynb\n",
      "23-02-2022  10:36            23,661 sqlitepractice.ipynb\n",
      "23-02-2022  14:07            23,958 sqllite_csvfile.ipynb\n",
      "23-02-2022  14:04                43 test.txt\n",
      "07-02-2022  16:56                10 today.txt\n",
      "14-12-2021  17:11             1,613 Untitled.ipynb\n",
      "14-12-2021  21:17             1,445 Untitled1.ipynb\n",
      "19-12-2021  15:09                72 Untitled2.ipynb\n",
      "19-12-2021  16:36            11,588 Untitled3.ipynb\n",
      "04-02-2022  16:35                72 Untitled4.ipynb\n",
      "04-02-2022  16:57                 0 zoo.py\n",
      "              53 File(s)      5,097,988 bytes\n",
      "               4 Dir(s)  29,133,594,624 bytes free\n"
     ]
    }
   ],
   "source": [
    "ls"
   ]
  },
  {
   "cell_type": "markdown",
   "id": "7adb4048",
   "metadata": {},
   "source": [
    "4. Use the sqlite3 module to create a SQLite database called books.db, and a table called books with\n",
    "these fields: title (text), author (text), and year (integer)."
   ]
  },
  {
   "cell_type": "code",
   "execution_count": 16,
   "id": "1caaa7f6",
   "metadata": {},
   "outputs": [],
   "source": [
    "import sqlite3"
   ]
  },
  {
   "cell_type": "code",
   "execution_count": 17,
   "id": "e5914eb8",
   "metadata": {},
   "outputs": [],
   "source": [
    "db= sqlite3.connect(\"books.db\")"
   ]
  },
  {
   "cell_type": "code",
   "execution_count": 18,
   "id": "52a52671",
   "metadata": {},
   "outputs": [
    {
     "name": "stdout",
     "output_type": "stream",
     "text": [
      " Volume in drive C is Windows\n",
      " Volume Serial Number is 6A64-9A68\n",
      "\n",
      " Directory of C:\\Users\\SAMARTH\\Desktop\\phd\\ineuron\\Assignments\\python basic assignment\n",
      "\n",
      "23-02-2022  14:11    <DIR>          .\n",
      "18-02-2022  14:56    <DIR>          ..\n",
      "23-02-2022  14:03    <DIR>          .ipynb_checkpoints\n",
      "04-02-2022  16:39    <DIR>          __pycache__\n",
      "29-01-2022  22:14         3,666,293 abc.pdf\n",
      "29-01-2022  23:22                 0 abcd.docx\n",
      "14-12-2021  17:17             1,891 Assignment1\n",
      "29-01-2022  23:08             6,259 Assignment10.ipynb\n",
      "01-02-2022  13:20            10,602 Assignment11.ipynb\n",
      "29-01-2022  23:58            11,236 Assignment12.ipynb\n",
      "08-02-2022  13:13             2,709 Assignment13.ipynb\n",
      "05-02-2022  22:09             3,012 Assignment14.ipynb\n",
      "31-01-2022  16:35             5,673 Assignment15.ipynb\n",
      "01-02-2022  22:32            11,190 Assignment16.ipynb\n",
      "04-02-2022  16:27             8,325 Assignment17.ipynb\n",
      "04-02-2022  16:57             8,167 Assignment18.ipynb\n",
      "05-02-2022  21:46            12,576 Assignment19.ipynb\n",
      "14-12-2021  21:19             1,579 Assignment2\n",
      "23-02-2022  12:07            20,316 Assignment20.ipynb\n",
      "07-02-2022  16:56             8,226 Assignment21.ipynb\n",
      "31-01-2022  15:17             5,277 Assignment22.ipynb\n",
      "31-01-2022  15:37             4,093 Assignment23.ipynb\n",
      "21-02-2022  11:25             7,363 Assignment24.ipynb\n",
      "16-02-2022  13:04             3,082 Assignment25.ipynb\n",
      "12-01-2022  10:54             4,806 Assignment3.ipynb\n",
      "19-12-2021  16:38             1,716 Assignment4\n",
      "30-12-2021  14:12             4,512 Assignment5.ipynb\n",
      "23-12-2021  17:38             7,286 Assignment6.ipynb\n",
      "21-02-2022  11:40             4,779 Assignment7.ipynb\n",
      "28-01-2022  21:50            11,732 Assignment8.ipynb\n",
      "28-01-2022  22:30             3,329 Assignment9.ipynb\n",
      "23-02-2022  14:08               243 books.csv\n",
      "23-02-2022  11:38            16,384 books.db\n",
      "23-02-2022  11:45             8,192 books1.db\n",
      "23-02-2022  11:46             4,616 books1.db-journal\n",
      "23-02-2022  11:51             8,192 books2.db\n",
      "29-01-2022  22:14         1,034,172 breastcancer.pdf\n",
      "29-01-2022  19:09                31 change_test2.txt\n",
      "29-01-2022  19:56                22 example_file.zip\n",
      "29-01-2022  23:45            36,634 headings.docx\n",
      "29-01-2022  23:39            36,589 helloworld.docx\n",
      "29-01-2022  19:57                22 ineuron_fsds.zip\n",
      "23-02-2022  10:31             3,867 iris.csv\n",
      "07-02-2022  16:51                 0 multi.py\n",
      "23-02-2022  14:03            16,384 new_database.db\n",
      "23-02-2022  11:08            16,384 newdata.db\n",
      "23-02-2022  14:04            17,765 sqlite_csv_irisdata.ipynb\n",
      "23-02-2022  10:36            23,661 sqlitepractice.ipynb\n",
      "23-02-2022  14:11            16,821 sqllite_csvfile.ipynb\n",
      "23-02-2022  14:04                43 test.txt\n",
      "07-02-2022  16:56                10 today.txt\n",
      "14-12-2021  17:11             1,613 Untitled.ipynb\n",
      "14-12-2021  21:17             1,445 Untitled1.ipynb\n",
      "19-12-2021  15:09                72 Untitled2.ipynb\n",
      "19-12-2021  16:36            11,588 Untitled3.ipynb\n",
      "04-02-2022  16:35                72 Untitled4.ipynb\n",
      "04-02-2022  16:57                 0 zoo.py\n",
      "              53 File(s)      5,090,851 bytes\n",
      "               4 Dir(s)  29,135,790,080 bytes free\n"
     ]
    }
   ],
   "source": [
    "ls"
   ]
  },
  {
   "cell_type": "markdown",
   "id": "9d3aeddf",
   "metadata": {},
   "source": [
    "5. Read books.csv and insert its data into the book table."
   ]
  },
  {
   "cell_type": "code",
   "execution_count": 14,
   "id": "b595013a",
   "metadata": {},
   "outputs": [],
   "source": [
    "file1 = open('books.csv')"
   ]
  },
  {
   "cell_type": "code",
   "execution_count": 15,
   "id": "28b1e924",
   "metadata": {},
   "outputs": [
    {
     "data": {
      "text/plain": [
       "'title,author,year\\nThe Weirdstone of Brisingamen,Alan Garner,1960\\nPerdido Street Station,China MiÃ©ville,2000\\nThud!,Terry Pratchett,2005\\nThe Spellman Files,Lisa Lutz,2007\\nThe Spellman Files,Lisa Lutz,2007\\nSmall Gods,Terry Pratchett,1992\\n'"
      ]
     },
     "execution_count": 15,
     "metadata": {},
     "output_type": "execute_result"
    }
   ],
   "source": [
    "file1.read()"
   ]
  },
  {
   "cell_type": "code",
   "execution_count": 20,
   "id": "e86f5dc8",
   "metadata": {},
   "outputs": [],
   "source": [
    "file1 = open('books.csv')"
   ]
  },
  {
   "cell_type": "code",
   "execution_count": 21,
   "id": "0fa73f5b",
   "metadata": {},
   "outputs": [],
   "source": [
    "contents = csv.reader(file1)"
   ]
  },
  {
   "cell_type": "code",
   "execution_count": 22,
   "id": "208d0fb0",
   "metadata": {},
   "outputs": [],
   "source": [
    "db1 = sqlite3.connect('books1.db')"
   ]
  },
  {
   "cell_type": "code",
   "execution_count": 23,
   "id": "79420eb9",
   "metadata": {},
   "outputs": [],
   "source": [
    "cursor = db1.cursor()"
   ]
  },
  {
   "cell_type": "code",
   "execution_count": 30,
   "id": "824b0ac1",
   "metadata": {},
   "outputs": [
    {
     "data": {
      "text/plain": [
       "<sqlite3.Cursor at 0x1f33d2919d0>"
      ]
     },
     "execution_count": 30,
     "metadata": {},
     "output_type": "execute_result"
    }
   ],
   "source": [
    "cursor.execute('create table books1 (title text, author text, year int)')"
   ]
  },
  {
   "cell_type": "code",
   "execution_count": 31,
   "id": "f819f6be",
   "metadata": {},
   "outputs": [],
   "source": [
    "insert_data = \"insert into books1 (title ,author, year) values(?, ?, ?)\""
   ]
  },
  {
   "cell_type": "code",
   "execution_count": 32,
   "id": "1f417d8a",
   "metadata": {},
   "outputs": [
    {
     "data": {
      "text/plain": [
       "<sqlite3.Cursor at 0x1f4ba75b110>"
      ]
     },
     "execution_count": 32,
     "metadata": {},
     "output_type": "execute_result"
    }
   ],
   "source": [
    "cursor.executemany(insert_data, contents)"
   ]
  },
  {
   "cell_type": "code",
   "execution_count": 33,
   "id": "6bba0d4a",
   "metadata": {},
   "outputs": [
    {
     "name": "stdout",
     "output_type": "stream",
     "text": [
      "('title', 'author', 'year')\n",
      "('The Weirdstone of Brisingamen', 'Alan Garner', 1960)\n",
      "('Perdido Street Station', 'China MiÃ©ville', 2000)\n",
      "('Thud!', 'Terry Pratchett', 2005)\n",
      "('The Spellman Files', 'Lisa Lutz', 2007)\n",
      "('The Spellman Files', 'Lisa Lutz', 2007)\n",
      "('Small Gods', 'Terry Pratchett', 1992)\n"
     ]
    }
   ],
   "source": [
    "for i in cursor.execute('select *from books1'):\n",
    "    print(i)"
   ]
  },
  {
   "cell_type": "markdown",
   "id": "4b1df230",
   "metadata": {},
   "source": [
    "6. Select and print the title column from the book table in alphabetical order."
   ]
  },
  {
   "cell_type": "code",
   "execution_count": 34,
   "id": "f5c69442",
   "metadata": {},
   "outputs": [
    {
     "name": "stdout",
     "output_type": "stream",
     "text": [
      "('title',)\n",
      "('The Weirdstone of Brisingamen',)\n",
      "('Perdido Street Station',)\n",
      "('Thud!',)\n",
      "('The Spellman Files',)\n",
      "('The Spellman Files',)\n",
      "('Small Gods',)\n"
     ]
    }
   ],
   "source": [
    "for i in cursor.execute('select title from books1'):\n",
    "    print(i)"
   ]
  },
  {
   "cell_type": "code",
   "execution_count": 26,
   "id": "4983abcd",
   "metadata": {},
   "outputs": [],
   "source": [
    "db.commit()"
   ]
  },
  {
   "cell_type": "code",
   "execution_count": 27,
   "id": "6e62a71e",
   "metadata": {},
   "outputs": [
    {
     "data": {
      "text/plain": [
       "[]"
      ]
     },
     "execution_count": 27,
     "metadata": {},
     "output_type": "execute_result"
    }
   ],
   "source": [
    "cursor.fetchall()"
   ]
  },
  {
   "cell_type": "markdown",
   "id": "cadd1845",
   "metadata": {},
   "source": [
    "6. Select and print the title column from the book table in alphabetical order."
   ]
  },
  {
   "cell_type": "code",
   "execution_count": 35,
   "id": "baf2807e",
   "metadata": {},
   "outputs": [
    {
     "name": "stdout",
     "output_type": "stream",
     "text": [
      "('Perdido Street Station',)\n",
      "('Small Gods',)\n",
      "('The Spellman Files',)\n",
      "('The Spellman Files',)\n",
      "('The Weirdstone of Brisingamen',)\n",
      "('Thud!',)\n",
      "('title',)\n"
     ]
    }
   ],
   "source": [
    "for i in cursor.execute('select title from books1 order by title'):\n",
    "    print(i)"
   ]
  },
  {
   "cell_type": "markdown",
   "id": "959edafc",
   "metadata": {},
   "source": [
    "7. From the book table, select and print all columns in the order of publication."
   ]
  },
  {
   "cell_type": "code",
   "execution_count": 36,
   "id": "6c587740",
   "metadata": {},
   "outputs": [
    {
     "name": "stdout",
     "output_type": "stream",
     "text": [
      "('The Weirdstone of Brisingamen', 'Alan Garner', 1960)\n",
      "('Small Gods', 'Terry Pratchett', 1992)\n",
      "('Perdido Street Station', 'China MiÃ©ville', 2000)\n",
      "('Thud!', 'Terry Pratchett', 2005)\n",
      "('The Spellman Files', 'Lisa Lutz', 2007)\n",
      "('The Spellman Files', 'Lisa Lutz', 2007)\n",
      "('title', 'author', 'year')\n"
     ]
    }
   ],
   "source": [
    "for i in cursor.execute('select *from books1 order by year'):\n",
    "    print(i)"
   ]
  },
  {
   "cell_type": "markdown",
   "id": "e9ff2439",
   "metadata": {},
   "source": [
    "8. Use the sqlalchemy module to connect to the sqlite3 database books.db that you just made in\n",
    "exercise 6."
   ]
  },
  {
   "cell_type": "code",
   "execution_count": 37,
   "id": "217ecf0e",
   "metadata": {},
   "outputs": [],
   "source": [
    "from sqlalchemy import create_engine"
   ]
  },
  {
   "cell_type": "code",
   "execution_count": 38,
   "id": "c94b714e",
   "metadata": {},
   "outputs": [],
   "source": [
    "engine = create_engine('sqlite:///books.db', echo = True)"
   ]
  },
  {
   "cell_type": "code",
   "execution_count": null,
   "id": "c8c43f27",
   "metadata": {},
   "outputs": [],
   "source": []
  },
  {
   "cell_type": "markdown",
   "id": "196a0b72",
   "metadata": {},
   "source": [
    "9. Install the Redis server and the Python redis library (pip install redis) on your computer. Create a\n",
    "Redis hash called test with the fields count (1) and name (&#39;Fester Bestertester&#39;). Print all the fields for\n",
    "test."
   ]
  },
  {
   "cell_type": "code",
   "execution_count": 39,
   "id": "195b9ce3",
   "metadata": {
    "scrolled": true
   },
   "outputs": [
    {
     "name": "stdout",
     "output_type": "stream",
     "text": [
      "Collecting redis\n",
      "  Downloading redis-4.1.4-py3-none-any.whl (175 kB)\n",
      "Requirement already satisfied: packaging>=20.4 in c:\\users\\samarth\\appdata\\roaming\\python\\python39\\site-packages (from redis) (21.3)\n",
      "Collecting deprecated>=1.2.3\n",
      "  Downloading Deprecated-1.2.13-py2.py3-none-any.whl (9.6 kB)\n",
      "Requirement already satisfied: wrapt<2,>=1.10 in c:\\programdata\\anaconda3\\lib\\site-packages (from deprecated>=1.2.3->redis) (1.12.1)\n",
      "Requirement already satisfied: pyparsing!=3.0.5,>=2.0.2 in c:\\users\\samarth\\appdata\\roaming\\python\\python39\\site-packages (from packaging>=20.4->redis) (3.0.6)\n",
      "Installing collected packages: deprecated, redis\n",
      "Successfully installed deprecated-1.2.13 redis-4.1.4\n",
      "Note: you may need to restart the kernel to use updated packages.\n"
     ]
    }
   ],
   "source": [
    "pip install redis"
   ]
  },
  {
   "cell_type": "code",
   "execution_count": null,
   "id": "fd438bd7",
   "metadata": {},
   "outputs": [],
   "source": [
    "import redis\n",
    "conn = redis.Redis()\n",
    "conn.delete('test')\n",
    "conn.hmset('test', {'count': 1, 'name': 'Fester Bestertester'})\n",
    "conn.hgetall('test')"
   ]
  },
  {
   "cell_type": "markdown",
   "id": "7ff79056",
   "metadata": {},
   "source": [
    "10. Increment the count field of test and print it."
   ]
  },
  {
   "cell_type": "code",
   "execution_count": null,
   "id": "fc51cacb",
   "metadata": {},
   "outputs": [],
   "source": [
    "conn.hincrby('test','count', 3)"
   ]
  }
 ],
 "metadata": {
  "kernelspec": {
   "display_name": "Python 3 (ipykernel)",
   "language": "python",
   "name": "python3"
  },
  "language_info": {
   "codemirror_mode": {
    "name": "ipython",
    "version": 3
   },
   "file_extension": ".py",
   "mimetype": "text/x-python",
   "name": "python",
   "nbconvert_exporter": "python",
   "pygments_lexer": "ipython3",
   "version": "3.9.7"
  }
 },
 "nbformat": 4,
 "nbformat_minor": 5
}
