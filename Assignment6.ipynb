{
 "cells": [
  {
   "cell_type": "markdown",
   "id": "0ad6ba90",
   "metadata": {},
   "source": [
    "#Q1What are escape characters, and how do you use them?\n",
    "Answer: The backslash \"\\\" is a special character also called \"escape\" character. It is used in representing whitespace characters.\n",
    "\n",
    "\n",
    "Q2 What do the escape characters n and t stand for?\n",
    "Answer : \\n is used for newline\n",
    "         \\t is used for carriage return\n",
    "\n",
    "Q3. What is the way to include backslash characters in a string?\n",
    "Answer: To use backslash character in a string is to use double slash(\\\\)\n",
    "\n",
    "Q4.The string \"Howl's Moving Castle\" is a correct value. Why isn't the single quote character in the\n",
    "word 'Howl's not escaped a problem?\n",
    "Answer : when using double quote represent start and end of string where as single (in 'Howl's ) the interpreter this this as an end of string and gives and error \n",
    "\n"
   ]
  },
  {
   "cell_type": "markdown",
   "id": "a4e1daa6",
   "metadata": {},
   "source": [
    "Q5. How do you write a string of newlines if you don&#39;t want to use the n character?\n"
   ]
  },
  {
   "cell_type": "code",
   "execution_count": 58,
   "id": "743ad8d0",
   "metadata": {},
   "outputs": [
    {
     "name": "stdout",
     "output_type": "stream",
     "text": [
      "Hello Ineuron\n"
     ]
    }
   ],
   "source": [
    "print('Hello',end=' ')\n",
    "print('Ineuron')\n"
   ]
  },
  {
   "cell_type": "code",
   "execution_count": null,
   "id": "822b2e49",
   "metadata": {},
   "outputs": [],
   "source": [
    "#6Q"
   ]
  },
  {
   "cell_type": "code",
   "execution_count": 9,
   "id": "fb2a2822",
   "metadata": {},
   "outputs": [
    {
     "data": {
      "text/plain": [
       "'e'"
      ]
     },
     "execution_count": 9,
     "metadata": {},
     "output_type": "execute_result"
    }
   ],
   "source": [
    "'Hello, world!'[1]"
   ]
  },
  {
   "cell_type": "code",
   "execution_count": 10,
   "id": "00f0ccaa",
   "metadata": {},
   "outputs": [
    {
     "data": {
      "text/plain": [
       "'Hello'"
      ]
     },
     "execution_count": 10,
     "metadata": {},
     "output_type": "execute_result"
    }
   ],
   "source": [
    "'Hello, world!'[0:5]"
   ]
  },
  {
   "cell_type": "code",
   "execution_count": 11,
   "id": "24435d90",
   "metadata": {},
   "outputs": [
    {
     "data": {
      "text/plain": [
       "', world!'"
      ]
     },
     "execution_count": 11,
     "metadata": {},
     "output_type": "execute_result"
    }
   ],
   "source": [
    "'Hello, world!'[5:]"
   ]
  },
  {
   "cell_type": "code",
   "execution_count": 12,
   "id": "477675c6",
   "metadata": {},
   "outputs": [
    {
     "data": {
      "text/plain": [
       "'lo, world!'"
      ]
     },
     "execution_count": 12,
     "metadata": {},
     "output_type": "execute_result"
    }
   ],
   "source": [
    "'Hello, world!'[3:]"
   ]
  },
  {
   "cell_type": "code",
   "execution_count": null,
   "id": "eb12c8f4",
   "metadata": {},
   "outputs": [],
   "source": [
    "#7Q"
   ]
  },
  {
   "cell_type": "code",
   "execution_count": 6,
   "id": "f9bed283",
   "metadata": {},
   "outputs": [
    {
     "data": {
      "text/plain": [
       "'HELLO'"
      ]
     },
     "execution_count": 6,
     "metadata": {},
     "output_type": "execute_result"
    }
   ],
   "source": [
    "'Hello'.upper()\n",
    "\n"
   ]
  },
  {
   "cell_type": "code",
   "execution_count": 7,
   "id": "d345296f",
   "metadata": {},
   "outputs": [
    {
     "data": {
      "text/plain": [
       "True"
      ]
     },
     "execution_count": 7,
     "metadata": {},
     "output_type": "execute_result"
    }
   ],
   "source": [
    "'Hello'.upper().isupper()"
   ]
  },
  {
   "cell_type": "code",
   "execution_count": 8,
   "id": "4ca2f7fe",
   "metadata": {},
   "outputs": [
    {
     "data": {
      "text/plain": [
       "'hello'"
      ]
     },
     "execution_count": 8,
     "metadata": {},
     "output_type": "execute_result"
    }
   ],
   "source": [
    "\"Hello\".upper().lower()"
   ]
  },
  {
   "cell_type": "code",
   "execution_count": 13,
   "id": "12cc41be",
   "metadata": {},
   "outputs": [],
   "source": [
    "#8\n"
   ]
  },
  {
   "cell_type": "code",
   "execution_count": 14,
   "id": "499ef3ab",
   "metadata": {},
   "outputs": [
    {
     "data": {
      "text/plain": [
       "['Remember,', 'remember,', 'the', 'fifth', 'of', 'July.']"
      ]
     },
     "execution_count": 14,
     "metadata": {},
     "output_type": "execute_result"
    }
   ],
   "source": [
    "'Remember, remember, the fifth of July.'.split()"
   ]
  },
  {
   "cell_type": "code",
   "execution_count": 15,
   "id": "9dba0884",
   "metadata": {},
   "outputs": [
    {
     "data": {
      "text/plain": [
       "'There-can-only-one.'"
      ]
     },
     "execution_count": 15,
     "metadata": {},
     "output_type": "execute_result"
    }
   ],
   "source": [
    "'-'.join('There can only one.'.split())"
   ]
  },
  {
   "cell_type": "markdown",
   "id": "d53df091",
   "metadata": {},
   "source": [
    "Q9. What are the methods for right-justifying, left-justifying, and centering a string?"
   ]
  },
  {
   "cell_type": "code",
   "execution_count": 47,
   "id": "372f1f8b",
   "metadata": {},
   "outputs": [
    {
     "name": "stdout",
     "output_type": "stream",
     "text": [
      "************ India************\n",
      "************************ India\n",
      " India************************\n"
     ]
    }
   ],
   "source": [
    "str1 = ' India'\n",
    "print (str1.center(30,'*'))\n",
    "print(str1.rjust(30,'*'))\n",
    "print(str1.ljust(30,'*'))"
   ]
  },
  {
   "cell_type": "code",
   "execution_count": 31,
   "id": "c9d0c3e4",
   "metadata": {},
   "outputs": [
    {
     "data": {
      "text/plain": [
       "' India is the second powerful miltary force'"
      ]
     },
     "execution_count": 31,
     "metadata": {},
     "output_type": "execute_result"
    }
   ],
   "source": [
    "str1"
   ]
  },
  {
   "cell_type": "markdown",
   "id": "36f50816",
   "metadata": {},
   "source": [
    "Q10. What is the best way to remove whitespace characters from the start or end?"
   ]
  },
  {
   "cell_type": "code",
   "execution_count": 56,
   "id": "db0b1226",
   "metadata": {},
   "outputs": [
    {
     "name": "stdout",
     "output_type": "stream",
     "text": [
      "    India is great country\n",
      "India is great country    \n"
     ]
    }
   ],
   "source": [
    "s = '    India is great country    '\n",
    "print(s.rstrip())\n",
    "print(s.lstrip())\n"
   ]
  },
  {
   "cell_type": "code",
   "execution_count": null,
   "id": "883f33f6",
   "metadata": {},
   "outputs": [],
   "source": []
  }
 ],
 "metadata": {
  "kernelspec": {
   "display_name": "Python 3 (ipykernel)",
   "language": "python",
   "name": "python3"
  },
  "language_info": {
   "codemirror_mode": {
    "name": "ipython",
    "version": 3
   },
   "file_extension": ".py",
   "mimetype": "text/x-python",
   "name": "python",
   "nbconvert_exporter": "python",
   "pygments_lexer": "ipython3",
   "version": "3.9.7"
  }
 },
 "nbformat": 4,
 "nbformat_minor": 5
}
