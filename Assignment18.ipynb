{
 "cells": [
  {
   "cell_type": "markdown",
   "id": "e2d5fdd6",
   "metadata": {},
   "source": [
    "1. Create a zoo.py file first. Define the hours() function, which prints the string &#39;Open 9-5 daily&#39;.\n",
    "Then, use the interactive interpreter to import the zoo module and call its hours() function.\n",
    "."
   ]
  },
  {
   "cell_type": "code",
   "execution_count": 7,
   "id": "fb3c5639",
   "metadata": {},
   "outputs": [
    {
     "ename": "NameError",
     "evalue": "name 'ls' is not defined",
     "output_type": "error",
     "traceback": [
      "\u001b[1;31m---------------------------------------------------------------------------\u001b[0m",
      "\u001b[1;31mNameError\u001b[0m                                 Traceback (most recent call last)",
      "\u001b[1;32m~\\AppData\\Local\\Temp/ipykernel_15748/16380881.py\u001b[0m in \u001b[0;36m<module>\u001b[1;34m\u001b[0m\n\u001b[0;32m      1\u001b[0m \u001b[0mopen\u001b[0m\u001b[1;33m(\u001b[0m\u001b[1;34m\"zoo.py\"\u001b[0m\u001b[1;33m,\u001b[0m\u001b[1;34m\"w\"\u001b[0m\u001b[1;33m)\u001b[0m\u001b[1;33m\u001b[0m\u001b[1;33m\u001b[0m\u001b[0m\n\u001b[1;32m----> 2\u001b[1;33m \u001b[0mls\u001b[0m\u001b[1;33m\u001b[0m\u001b[1;33m\u001b[0m\u001b[0m\n\u001b[0m",
      "\u001b[1;31mNameError\u001b[0m: name 'ls' is not defined"
     ]
    }
   ],
   "source": [
    "open(\"zoo.py\",\"w\")"
   ]
  },
  {
   "cell_type": "code",
   "execution_count": 9,
   "id": "4d6565e6",
   "metadata": {},
   "outputs": [],
   "source": [
    "import os"
   ]
  },
  {
   "cell_type": "code",
   "execution_count": 10,
   "id": "e77c6859",
   "metadata": {},
   "outputs": [
    {
     "name": "stdout",
     "output_type": "stream",
     "text": [
      " Volume in drive C is Windows\n",
      " Volume Serial Number is 6A64-9A68\n",
      "\n",
      " Directory of C:\\Users\\SAMARTH\\Desktop\\phd\\ineuron\\basic python\\python basic assignment\n",
      "\n",
      "04-02-2022  16:42    <DIR>          .\n",
      "10-01-2022  17:03    <DIR>          ..\n",
      "04-02-2022  16:35    <DIR>          .ipynb_checkpoints\n",
      "04-02-2022  16:39    <DIR>          __pycache__\n",
      "29-01-2022  22:14         3,666,293 abc.pdf\n",
      "29-01-2022  23:22                 0 abcd.docx\n",
      "14-12-2021  17:17             1,891 Assignment1\n",
      "29-01-2022  23:08             6,259 Assignment10.ipynb\n",
      "01-02-2022  13:20            10,602 Assignment11.ipynb\n",
      "29-01-2022  23:58            11,236 Assignment12.ipynb\n",
      "31-01-2022  16:35             5,673 Assignment15.ipynb\n",
      "01-02-2022  22:32            11,190 Assignment16.ipynb\n",
      "04-02-2022  16:27             8,325 Assignment17.ipynb\n",
      "04-02-2022  16:42             4,829 Assignment18.ipynb\n",
      "14-12-2021  21:19             1,579 Assignment2\n",
      "31-01-2022  15:17             5,277 Assignment22.ipynb\n",
      "31-01-2022  15:37             4,093 Assignment23.ipynb\n",
      "12-01-2022  10:54             4,806 Assignment3.ipynb\n",
      "19-12-2021  16:38             1,716 Assignment4\n",
      "30-12-2021  14:12             4,512 Assignment5.ipynb\n",
      "23-12-2021  17:38             7,286 Assignment6.ipynb\n",
      "28-01-2022  21:50            11,732 Assignment8.ipynb\n",
      "28-01-2022  22:30             3,329 Assignment9.ipynb\n",
      "29-01-2022  22:14         1,034,172 breastcancer.pdf\n",
      "29-01-2022  19:09                31 change_test2.txt\n",
      "29-01-2022  19:56                22 example_file.zip\n",
      "29-01-2022  23:45            36,634 headings.docx\n",
      "29-01-2022  23:39            36,589 helloworld.docx\n",
      "29-01-2022  19:57                22 ineuron_fsds.zip\n",
      "14-12-2021  17:11             1,613 Untitled.ipynb\n",
      "14-12-2021  21:17             1,445 Untitled1.ipynb\n",
      "19-12-2021  15:09                72 Untitled2.ipynb\n",
      "19-12-2021  16:36            11,588 Untitled3.ipynb\n",
      "04-02-2022  16:35                72 Untitled4.ipynb\n",
      "04-02-2022  16:41                 0 zoo.py\n",
      "              31 File(s)      4,892,888 bytes\n",
      "               4 Dir(s)  24,232,054,784 bytes free\n"
     ]
    }
   ],
   "source": [
    "ls"
   ]
  },
  {
   "cell_type": "code",
   "execution_count": 5,
   "id": "cbd2ad83",
   "metadata": {},
   "outputs": [
    {
     "name": "stdout",
     "output_type": "stream",
     "text": [
      "open 9-5 daily\n"
     ]
    }
   ],
   "source": [
    "import zoo\n",
    "from importlib import reload\n",
    "reload(zoo)\n",
    "\n",
    "zoo.hours()"
   ]
  },
  {
   "cell_type": "markdown",
   "id": "2aac1959",
   "metadata": {},
   "source": [
    "2. In the interactive interpreter, import the zoo module as menagerie and call its hours() function.\n"
   ]
  },
  {
   "cell_type": "code",
   "execution_count": 6,
   "id": "d04adbb6",
   "metadata": {},
   "outputs": [
    {
     "name": "stdout",
     "output_type": "stream",
     "text": [
      "open 9-5 daily\n"
     ]
    }
   ],
   "source": [
    "import zoo as menagerie\n",
    "menagerie.hours()"
   ]
  },
  {
   "cell_type": "markdown",
   "id": "1f6c9ba5",
   "metadata": {},
   "source": [
    "3. Using the interpreter, explicitly import and call the hours() function from zoo.\n"
   ]
  },
  {
   "cell_type": "code",
   "execution_count": 12,
   "id": "025d83f3",
   "metadata": {},
   "outputs": [
    {
     "name": "stdout",
     "output_type": "stream",
     "text": [
      "open 9-5 daily\n"
     ]
    }
   ],
   "source": [
    "from zoo import hours\n",
    "hours()"
   ]
  },
  {
   "cell_type": "markdown",
   "id": "88d492fe",
   "metadata": {},
   "source": [
    "4. Import the hours() function as info and call it.\n"
   ]
  },
  {
   "cell_type": "code",
   "execution_count": 14,
   "id": "37780e58",
   "metadata": {},
   "outputs": [
    {
     "name": "stdout",
     "output_type": "stream",
     "text": [
      "open 9-5 daily\n"
     ]
    }
   ],
   "source": [
    "from zoo import hours as info\n",
    "info()"
   ]
  },
  {
   "cell_type": "markdown",
   "id": "9a953cc9",
   "metadata": {},
   "source": [
    "5. Create a plain dictionary with the key-value pairs &#39;a&#39;: 1, &#39;b&#39;: 2, and &#39;c&#39;: 3, and print it out.\n"
   ]
  },
  {
   "cell_type": "code",
   "execution_count": 15,
   "id": "302c8332",
   "metadata": {},
   "outputs": [
    {
     "data": {
      "text/plain": [
       "{'a': 1, 'b': 2, 'c': 3}"
      ]
     },
     "execution_count": 15,
     "metadata": {},
     "output_type": "execute_result"
    }
   ],
   "source": [
    "dict = { 'a': 1,'b':2,'c':3}\n",
    "dict"
   ]
  },
  {
   "cell_type": "markdown",
   "id": "c8ca1d35",
   "metadata": {},
   "source": [
    "6.Make an OrderedDict called fancy from the same pairs listed in 5 and print it. Did it print in the\n",
    "same order as plain?\n"
   ]
  },
  {
   "cell_type": "code",
   "execution_count": 18,
   "id": "96f40b66",
   "metadata": {},
   "outputs": [
    {
     "data": {
      "text/plain": [
       "OrderedDict([('a', 1), ('b', 2), ('c', 3)])"
      ]
     },
     "execution_count": 18,
     "metadata": {},
     "output_type": "execute_result"
    }
   ],
   "source": [
    "from collections import OrderedDict\n",
    "fancy = OrderedDict([('a',1),('b',2),('c',3)])\n",
    "fancy"
   ]
  },
  {
   "cell_type": "markdown",
   "id": "7feb02fa",
   "metadata": {},
   "source": [
    "7. Make a default dictionary called dict_of_lists and pass it the argument list. Make the list\n",
    "dict_of_lists[&#39;a&#39;] and append the value &#39;something for a&#39; to it in one assignment. Print\n",
    "dict_of_lists[&#39;a&#39;]"
   ]
  },
  {
   "cell_type": "code",
   "execution_count": 22,
   "id": "973ee4d9",
   "metadata": {},
   "outputs": [
    {
     "data": {
      "text/plain": [
       "['something for a']"
      ]
     },
     "execution_count": 22,
     "metadata": {},
     "output_type": "execute_result"
    }
   ],
   "source": [
    "from collections import defaultdict\n",
    "dict_of_lists = defaultdict(list)\n",
    "dict_of_lists['a'].append('something for a')\n",
    "dict_of_lists['a']"
   ]
  },
  {
   "cell_type": "code",
   "execution_count": null,
   "id": "c6ca71d5",
   "metadata": {},
   "outputs": [],
   "source": []
  }
 ],
 "metadata": {
  "kernelspec": {
   "display_name": "Python 3 (ipykernel)",
   "language": "python",
   "name": "python3"
  },
  "language_info": {
   "codemirror_mode": {
    "name": "ipython",
    "version": 3
   },
   "file_extension": ".py",
   "mimetype": "text/x-python",
   "name": "python",
   "nbconvert_exporter": "python",
   "pygments_lexer": "ipython3",
   "version": "3.9.7"
  }
 },
 "nbformat": 4,
 "nbformat_minor": 5
}
