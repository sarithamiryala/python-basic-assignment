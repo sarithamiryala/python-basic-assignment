{
 "cells": [
  {
   "cell_type": "markdown",
   "id": "a442ff6a",
   "metadata": {},
   "source": [
    "Q1. What is the result of the code, and explain?\n",
    "\n",
    "Ans: Answer will be \"iNeuron\" because X was defined before function and act as global variable"
   ]
  },
  {
   "cell_type": "code",
   "execution_count": 3,
   "id": "ba11fa89",
   "metadata": {},
   "outputs": [
    {
     "name": "stdout",
     "output_type": "stream",
     "text": [
      "iNeuron\n"
     ]
    }
   ],
   "source": [
    "X = 'iNeuron'\n",
    "def func():\n",
    "    print(X)\n",
    "\n",
    "func()"
   ]
  },
  {
   "cell_type": "markdown",
   "id": "9dc902fa",
   "metadata": {},
   "source": [
    "Q2.2. What is the result of the code, and explain?\n",
    "\n",
    "Ans:  iNeuron will be  will be the result because X = 'NI' act as a local variable and print is out side the function and the scope of X outside function is global"
   ]
  },
  {
   "cell_type": "code",
   "execution_count": 6,
   "id": "6c7ba2a9",
   "metadata": {},
   "outputs": [
    {
     "name": "stdout",
     "output_type": "stream",
     "text": [
      "iNeuron\n"
     ]
    }
   ],
   "source": [
    "X = 'iNeuron'\n",
    "\n",
    "def func():\n",
    "    X = 'NI'\n",
    "func()\n",
    "\n",
    "print(X)"
   ]
  },
  {
   "cell_type": "markdown",
   "id": "f854d074",
   "metadata": {},
   "source": [
    "Q3.What does this code print, and why?\n",
    "\n",
    "Ans  NI will be printed first because first function is called whose local variable is NI and outside the function X is printed as iNeuron because it takes the global variable"
   ]
  },
  {
   "cell_type": "code",
   "execution_count": 8,
   "id": "809f8640",
   "metadata": {},
   "outputs": [
    {
     "name": "stdout",
     "output_type": "stream",
     "text": [
      "NI\n",
      "iNeuron\n"
     ]
    }
   ],
   "source": [
    "X = 'iNeuron'\n",
    "\n",
    "def func():\n",
    "    X = 'NI'\n",
    "    print(X)\n",
    "func()\n",
    "\n",
    "print(X)"
   ]
  },
  {
   "cell_type": "markdown",
   "id": "45b19e1a",
   "metadata": {},
   "source": [
    "Q4. What output does this code produce? Why?\n",
    "\n",
    "Ans: result will be Ni because X in the function is defined as global variable so X was overwritten"
   ]
  },
  {
   "cell_type": "code",
   "execution_count": 9,
   "id": "6f1baa37",
   "metadata": {},
   "outputs": [
    {
     "name": "stdout",
     "output_type": "stream",
     "text": [
      "NI\n"
     ]
    }
   ],
   "source": [
    "X = 'iNeuron'\n",
    "def func():\n",
    "    global X\n",
    "    X = 'NI'\n",
    "\n",
    "func()\n",
    "print(X)"
   ]
  },
  {
   "cell_type": "markdown",
   "id": "8711232e",
   "metadata": {},
   "source": [
    "Q5. What about this code—what’s the output, and why?\n",
    "\n",
    "Ans : nested() is called and it prints the X of global variable.\n",
    "      func() is called it doesn't give any output\n",
    "      X it will give string X as iNeuron"
   ]
  },
  {
   "cell_type": "code",
   "execution_count": 11,
   "id": "f1167250",
   "metadata": {},
   "outputs": [
    {
     "name": "stdout",
     "output_type": "stream",
     "text": [
      "iNeuron\n"
     ]
    },
    {
     "data": {
      "text/plain": [
       "'iNeuron'"
      ]
     },
     "execution_count": 11,
     "metadata": {},
     "output_type": "execute_result"
    }
   ],
   "source": [
    "X = 'iNeuron'\n",
    "def func():\n",
    "    X = 'NI'\n",
    "def nested():\n",
    "    print(X)\n",
    "    \n",
    "nested()\n",
    "\n",
    "func()\n",
    "X"
   ]
  },
  {
   "cell_type": "markdown",
   "id": "1d8cabfe",
   "metadata": {},
   "source": [
    "Q6. How about this code: what is its output in Python 3, and explain\n",
    "    \n",
    "Ans:  result will be x not found"
   ]
  },
  {
   "cell_type": "code",
   "execution_count": 17,
   "id": "ac2d9929",
   "metadata": {},
   "outputs": [
    {
     "ename": "SyntaxError",
     "evalue": "no binding for nonlocal 'X' found (Temp/ipykernel_22944/161969117.py, line 5)",
     "output_type": "error",
     "traceback": [
      "\u001b[1;36m  File \u001b[1;32m\"C:\\Users\\SAMARTH\\AppData\\Local\\Temp/ipykernel_22944/161969117.py\"\u001b[1;36m, line \u001b[1;32m5\u001b[0m\n\u001b[1;33m    nonlocal X\u001b[0m\n\u001b[1;37m    ^\u001b[0m\n\u001b[1;31mSyntaxError\u001b[0m\u001b[1;31m:\u001b[0m no binding for nonlocal 'X' found\n"
     ]
    }
   ],
   "source": [
    "def func():\n",
    "    X = 'NI'\n",
    "    \n",
    "def nested():\n",
    "    nonlocal X\n",
    "    X = 'Spam'\n",
    "\n",
    "nested()\n",
    "print(X)\n",
    "\n",
    "func()"
   ]
  },
  {
   "cell_type": "code",
   "execution_count": null,
   "id": "45f48659",
   "metadata": {},
   "outputs": [],
   "source": []
  }
 ],
 "metadata": {
  "kernelspec": {
   "display_name": "Python 3 (ipykernel)",
   "language": "python",
   "name": "python3"
  },
  "language_info": {
   "codemirror_mode": {
    "name": "ipython",
    "version": 3
   },
   "file_extension": ".py",
   "mimetype": "text/x-python",
   "name": "python",
   "nbconvert_exporter": "python",
   "pygments_lexer": "ipython3",
   "version": "3.9.7"
  }
 },
 "nbformat": 4,
 "nbformat_minor": 5
}
