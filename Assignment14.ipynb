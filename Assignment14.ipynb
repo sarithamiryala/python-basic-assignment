{
 "cells": [
  {
   "cell_type": "markdown",
   "id": "a466b263",
   "metadata": {},
   "source": [
    "1. What does RGBA stand for?\n"
   ]
  },
  {
   "cell_type": "markdown",
   "id": "0c9f8146",
   "metadata": {},
   "source": [
    "RGBA RED GREEN BLUE Alpha"
   ]
  },
  {
   "cell_type": "markdown",
   "id": "5201f6e1",
   "metadata": {},
   "source": [
    "2. From the Pillow module, how do you get the RGBA value of any images?\n"
   ]
  },
  {
   "cell_type": "code",
   "execution_count": 1,
   "id": "b697a160",
   "metadata": {},
   "outputs": [],
   "source": [
    "from PIL import ImageColor"
   ]
  },
  {
   "cell_type": "code",
   "execution_count": 2,
   "id": "72e13732",
   "metadata": {},
   "outputs": [
    {
     "data": {
      "text/plain": [
       "(255, 0, 0, 255)"
      ]
     },
     "execution_count": 2,
     "metadata": {},
     "output_type": "execute_result"
    }
   ],
   "source": [
    "ImageColor.getcolor('red', 'RGBA')"
   ]
  },
  {
   "cell_type": "code",
   "execution_count": 3,
   "id": "95097de0",
   "metadata": {},
   "outputs": [
    {
     "data": {
      "text/plain": [
       "(0, 0, 0, 255)"
      ]
     },
     "execution_count": 3,
     "metadata": {},
     "output_type": "execute_result"
    }
   ],
   "source": [
    "ImageColor.getcolor('Black', 'RGBA')"
   ]
  },
  {
   "cell_type": "markdown",
   "id": "8d6f7629",
   "metadata": {},
   "source": [
    "3. What is a box tuple, and how does it work?\n"
   ]
  },
  {
   "cell_type": "markdown",
   "id": "96550fe3",
   "metadata": {},
   "source": [
    "many pillow's functions and methods takes box tuple arguments.\n",
    "\n",
    "this means pillow is expecting a tuple of four integer coordinates  that represent rectangular region in an image"
   ]
  },
  {
   "cell_type": "markdown",
   "id": "936f6f76",
   "metadata": {},
   "source": [
    "4. Use your image and load in notebook then, How can you find out the width and height of an\n",
    "Image object?\n"
   ]
  },
  {
   "cell_type": "code",
   "execution_count": 4,
   "id": "3246bb0c",
   "metadata": {},
   "outputs": [],
   "source": [
    "from PIL import Image"
   ]
  },
  {
   "cell_type": "code",
   "execution_count": 7,
   "id": "fb2d6125",
   "metadata": {},
   "outputs": [],
   "source": [
    "img = Image.open('ganesha.jpg')"
   ]
  },
  {
   "cell_type": "code",
   "execution_count": 9,
   "id": "81ad74e7",
   "metadata": {},
   "outputs": [
    {
     "data": {
      "text/plain": [
       "(1000, 1500)"
      ]
     },
     "execution_count": 9,
     "metadata": {},
     "output_type": "execute_result"
    }
   ],
   "source": [
    "img.size"
   ]
  },
  {
   "cell_type": "markdown",
   "id": "2ff0f370",
   "metadata": {},
   "source": [
    "5. What method would you call to get Image object for a 100×100 image, excluding the lower-left\n",
    "quarter of it?\n"
   ]
  },
  {
   "cell_type": "code",
   "execution_count": 12,
   "id": "607dcf96",
   "metadata": {},
   "outputs": [],
   "source": [
    "img_resiz = img.resize((100,100))"
   ]
  },
  {
   "cell_type": "markdown",
   "id": "537204f6",
   "metadata": {},
   "source": [
    "6. After making changes to an Image object, how could you save it as an image file?\n"
   ]
  },
  {
   "cell_type": "code",
   "execution_count": 14,
   "id": "233afa5c",
   "metadata": {},
   "outputs": [],
   "source": [
    "img_resiz.save('ganesh.jpg')"
   ]
  },
  {
   "cell_type": "markdown",
   "id": "4ef22973",
   "metadata": {},
   "source": [
    "7. What module contains Pillow’s shape-drawing code?\n"
   ]
  },
  {
   "cell_type": "code",
   "execution_count": null,
   "id": "76942b57",
   "metadata": {},
   "outputs": [],
   "source": [
    "ImageDraw()"
   ]
  },
  {
   "cell_type": "markdown",
   "id": "17690088",
   "metadata": {},
   "source": [
    "8. Image objects do not have drawing methods. What kind of object does? How do you get this kind\n",
    "of object? "
   ]
  },
  {
   "cell_type": "code",
   "execution_count": null,
   "id": "f72d542c",
   "metadata": {},
   "outputs": [],
   "source": [
    "ImageColor from pillow"
   ]
  }
 ],
 "metadata": {
  "kernelspec": {
   "display_name": "Python 3 (ipykernel)",
   "language": "python",
   "name": "python3"
  },
  "language_info": {
   "codemirror_mode": {
    "name": "ipython",
    "version": 3
   },
   "file_extension": ".py",
   "mimetype": "text/x-python",
   "name": "python",
   "nbconvert_exporter": "python",
   "pygments_lexer": "ipython3",
   "version": "3.9.7"
  }
 },
 "nbformat": 4,
 "nbformat_minor": 5
}
