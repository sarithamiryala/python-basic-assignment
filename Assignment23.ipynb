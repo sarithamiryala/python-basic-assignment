{
 "cells": [
  {
   "cell_type": "markdown",
   "id": "bbe26d2c",
   "metadata": {},
   "source": [
    "Q1. What is the result of the code, and why?\n",
    "\n",
    "Ans : result is 1,2,8 because while calling function we are passing 1,2 which will overwrite b value and first value will be taken in a"
   ]
  },
  {
   "cell_type": "code",
   "execution_count": 2,
   "id": "8e5b5e81",
   "metadata": {},
   "outputs": [
    {
     "name": "stdout",
     "output_type": "stream",
     "text": [
      "1 2 8\n"
     ]
    }
   ],
   "source": [
    "def func(a, b=6, c=8):\n",
    "    print(a, b, c)\n",
    "func(1,2)"
   ]
  },
  {
   "cell_type": "markdown",
   "id": "88113737",
   "metadata": {},
   "source": [
    "Q2.What is the result of this code, and why?\n",
    "\n",
    "Ans : 1st value is considered as a and next two values are overwritten"
   ]
  },
  {
   "cell_type": "code",
   "execution_count": 3,
   "id": "2d988df8",
   "metadata": {},
   "outputs": [
    {
     "name": "stdout",
     "output_type": "stream",
     "text": [
      "1 2 3\n"
     ]
    }
   ],
   "source": [
    "def func(a, b, c=5):\n",
    "    print(a, b, c)\n",
    "func(1, c=3, b=2)\n",
    "\n"
   ]
  },
  {
   "cell_type": "markdown",
   "id": "5a2c4846",
   "metadata": {},
   "source": [
    "Q3. How about this code: what is its result, and why?\n",
    "\n",
    "Ans: 1st value is taken into a and next all values will be taken in *pargs"
   ]
  },
  {
   "cell_type": "code",
   "execution_count": 4,
   "id": "8f6ead1a",
   "metadata": {},
   "outputs": [
    {
     "name": "stdout",
     "output_type": "stream",
     "text": [
      "1 (2, 3)\n"
     ]
    }
   ],
   "source": [
    "def func(a, *pargs):\n",
    "    print(a, pargs)\n",
    "func(1, 2, 3)\n"
   ]
  },
  {
   "cell_type": "markdown",
   "id": "69b1a2f1",
   "metadata": {},
   "source": [
    "Q4. What does this code print, and why?\n",
    "\n",
    "Ans: 1st value in calling function will be taken into 'a' dictonary c and b with keyvalues are printed"
   ]
  },
  {
   "cell_type": "code",
   "execution_count": 5,
   "id": "9abd33af",
   "metadata": {},
   "outputs": [
    {
     "name": "stdout",
     "output_type": "stream",
     "text": [
      "1 {'c': 3, 'b': 2}\n"
     ]
    }
   ],
   "source": [
    "def func(a, **kargs):\n",
    "    print(a, kargs)\n",
    "func(a=1, c=3, b=2)\n"
   ]
  },
  {
   "cell_type": "markdown",
   "id": "eadd08d6",
   "metadata": {},
   "source": [
    "Q5. What gets printed by this, and explain?\n"
   ]
  },
  {
   "cell_type": "code",
   "execution_count": 7,
   "id": "c777c63a",
   "metadata": {},
   "outputs": [
    {
     "name": "stdout",
     "output_type": "stream",
     "text": [
      "1 5 6 5\n"
     ]
    }
   ],
   "source": [
    "def func(a, b, c=8, d=5): \n",
    "    print(a, b, c, d)\n",
    "func(1, *(5, 6))\n"
   ]
  },
  {
   "cell_type": "markdown",
   "id": "ead62e08",
   "metadata": {},
   "source": [
    "Q6. what is the result of this, and explain?\n"
   ]
  },
  {
   "cell_type": "code",
   "execution_count": 11,
   "id": "39c34bfa",
   "metadata": {},
   "outputs": [
    {
     "data": {
      "text/plain": [
       "(1, ['x'], {'a': 'y'})"
      ]
     },
     "execution_count": 11,
     "metadata": {},
     "output_type": "execute_result"
    }
   ],
   "source": [
    "def func(a, b, c): \n",
    "    a = 2; b[0] = 'x';c['a'] = 'y'\n",
    "l=1; m=[1]; n={'a':0}\n",
    "\n",
    "func(l, m, n)\n",
    "\n",
    "l, m, n"
   ]
  },
  {
   "cell_type": "code",
   "execution_count": null,
   "id": "ccfc6a28",
   "metadata": {},
   "outputs": [],
   "source": []
  }
 ],
 "metadata": {
  "kernelspec": {
   "display_name": "Python 3 (ipykernel)",
   "language": "python",
   "name": "python3"
  },
  "language_info": {
   "codemirror_mode": {
    "name": "ipython",
    "version": 3
   },
   "file_extension": ".py",
   "mimetype": "text/x-python",
   "name": "python",
   "nbconvert_exporter": "python",
   "pygments_lexer": "ipython3",
   "version": "3.9.7"
  }
 },
 "nbformat": 4,
 "nbformat_minor": 5
}
