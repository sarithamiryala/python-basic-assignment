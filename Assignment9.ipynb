{
 "cells": [
  {
   "cell_type": "markdown",
   "id": "ecfda946",
   "metadata": {},
   "source": [
    "1. To what does a relative path refer?\n",
    "\n",
    "Ans: Relative path refers to a location that isrelative to a current directory.\n",
    "     Eg: test.exe\n",
    "\n",
    "2. What does an absolute path start with your operating system?\n",
    "\n",
    "Ans: absolute path start with the root element. Eg- C:\\Windows\\test.exe\n",
    "\n",
    "3. What do the functions os.getcwd() and os.chdir() do?\n",
    "\n",
    "Ans: os.getcwd() returns the path of the file of current program\n",
    "     os.chdir(path) : it changes the current directory to the given path\n",
    "     \n",
    "     \n",
    "4. What are the . and .. folders?\n",
    "\n",
    "Ans:  .folders refers to current directory\n",
    "      .. folder referes to parent directory\n",
    "      \n",
    "      \n",
    "5. In C:\\bacon\\eggs\\spam.txt, which part is the dir name, and which part is the base name?\n",
    "\n",
    "Ans: dir name is spam.txt\n",
    "     base is C:\\\n",
    "6. What are the three “mode” arguments that can be passed to the open() function?\n",
    "\n",
    "Ans The diffrent mode to open a function are\n",
    "    mode = 'r' means file is opened in read only mode\n",
    "    mode = 'w' means the file is open in write node\n",
    "    mode = 'x' creates a new file and open in writing mode\n",
    "    \n",
    "    \n",
    "7. What happens if an existing file is opened in write mode?\n",
    "\n",
    "Ans: if we open an existing file in write mode then the existing data will be truncated.\n",
    "\n",
    "\n",
    "8. How do you tell the difference between read() and readlines()?\n",
    "\n",
    "Ans:read() function reads the entire file as a single string.\n",
    "    readlines() function reads the file single line by line\n",
    "\n",
    "9. What data structure does a shelf value resemble?\n",
    "\n",
    "Ans: Shelf value resemble the directory values like keys and values"
   ]
  },
  {
   "cell_type": "code",
   "execution_count": 1,
   "id": "a88986ba",
   "metadata": {},
   "outputs": [],
   "source": [
    "import os"
   ]
  },
  {
   "cell_type": "code",
   "execution_count": 2,
   "id": "2d00b0cf",
   "metadata": {},
   "outputs": [
    {
     "data": {
      "text/plain": [
       "'C:\\\\Users\\\\SAMARTH\\\\Desktop\\\\phd\\\\ineuron\\\\basic python\\\\python basic assignment'"
      ]
     },
     "execution_count": 2,
     "metadata": {},
     "output_type": "execute_result"
    }
   ],
   "source": [
    "os.getcwd()"
   ]
  },
  {
   "cell_type": "code",
   "execution_count": null,
   "id": "b84d45cf",
   "metadata": {},
   "outputs": [],
   "source": []
  },
  {
   "cell_type": "code",
   "execution_count": null,
   "id": "453aeed1",
   "metadata": {},
   "outputs": [],
   "source": []
  }
 ],
 "metadata": {
  "kernelspec": {
   "display_name": "Python 3 (ipykernel)",
   "language": "python",
   "name": "python3"
  },
  "language_info": {
   "codemirror_mode": {
    "name": "ipython",
    "version": 3
   },
   "file_extension": ".py",
   "mimetype": "text/x-python",
   "name": "python",
   "nbconvert_exporter": "python",
   "pygments_lexer": "ipython3",
   "version": "3.9.7"
  }
 },
 "nbformat": 4,
 "nbformat_minor": 5
}
