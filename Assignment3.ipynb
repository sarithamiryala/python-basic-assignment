{
 "cells": [
  {
   "cell_type": "markdown",
   "id": "87bf7619",
   "metadata": {},
   "source": [
    "Q1. Why are functions advantageous to have in your programs?\n",
    "\n",
    "\n",
    "\n",
    "Answer: Advantages\n",
    "        i. Functions increases program readability.\n",
    "        ii. Using function we can reuse the program muliple times\n",
    "        iii. Avoids repetition of codes\n",
    "        iv. Avoids rewtiting the program again and again"
   ]
  },
  {
   "cell_type": "markdown",
   "id": "6741fb41",
   "metadata": {},
   "source": [
    "Q2 When does the code in a function run: when it's specified or when it's called?\n",
    "\n",
    "Answer: code in function will run when it's called \n",
    "\n",
    "\n"
   ]
  },
  {
   "cell_type": "markdown",
   "id": "ca6c17dc",
   "metadata": {},
   "source": [
    "3. What statement creates a function?\n",
    " \n",
    " \n",
    " Answer: \"def\" creates function"
   ]
  },
  {
   "cell_type": "markdown",
   "id": "c688f9b6",
   "metadata": {},
   "source": [
    "4. What is the difference between a function and a function call?\n",
    "\n",
    "\n",
    "Answer: Function : Defining the function is called function\n",
    "        Function call is calling or invoking the function "
   ]
  },
  {
   "cell_type": "markdown",
   "id": "202c4b58",
   "metadata": {},
   "source": [
    "5. How many global scopes are there in a Python program? How many local scopes?\n",
    "\n",
    "\n",
    "Answer: only one Global scope \n",
    "        only one local scope in the python programs"
   ]
  },
  {
   "cell_type": "markdown",
   "id": "c1c3d8b1",
   "metadata": {},
   "source": [
    "6. What happens to variables in a local scope when the function call returns?\n",
    "\n",
    "\n",
    "Answer : local varibles gets destroyed when the function call returns"
   ]
  },
  {
   "cell_type": "markdown",
   "id": "9425058a",
   "metadata": {},
   "source": [
    "7. What is the concept of a return value? Is it possible to have a return value in an expression?\n",
    "\n",
    "Answer: Return is used in function definition it returns  the values to called functions. it is not possible to use return values in an expression\n"
   ]
  },
  {
   "cell_type": "markdown",
   "id": "66953b94",
   "metadata": {},
   "source": [
    "8. If a function does not have a return statement, what is the return value of a call to that function?\n",
    "\n",
    "Answer: It returns none"
   ]
  },
  {
   "cell_type": "markdown",
   "id": "355f96e1",
   "metadata": {},
   "source": [
    "9. How do you make a function variable refer to the global variable?\n",
    "\n",
    "Answer: use the keyword \"global\"\n",
    "\n",
    "def fun1(}:\n",
    "    global x"
   ]
  },
  {
   "cell_type": "markdown",
   "id": "f572ce9a",
   "metadata": {},
   "source": [
    "10. What is the data type of None?\n",
    "\n",
    "Answer: Datatype of none is nonetype.none is used to refer to null values. so null refers datatype of its own"
   ]
  },
  {
   "cell_type": "markdown",
   "id": "465eedc5",
   "metadata": {},
   "source": [
    "11. What does the sentence import areallyourpetsnamederic do\n",
    "\n",
    "Answer : This staement imports the module name areallyourpetsnamederic\n"
   ]
  },
  {
   "cell_type": "markdown",
   "id": "a2157bba",
   "metadata": {},
   "source": [
    "12. If you had a bacon() feature in a spam module, what would you call it after importing spam?\n",
    "\n",
    "Answer : spam.bacon()\n"
   ]
  },
  {
   "cell_type": "markdown",
   "id": "7af3a8df",
   "metadata": {},
   "source": [
    "13. What can you do to save a programme from crashing if it encounters an error?\n",
    "\n",
    "Answer: we can use expectional handling to prevent the prgoram from crashing. that write the line of code which may cause error into try clause\n"
   ]
  },
  {
   "cell_type": "markdown",
   "id": "c3b7177e",
   "metadata": {},
   "source": [
    "14. What is the purpose of the try clause? What is the purpose of the except clause\n",
    "\n",
    "Answer : \"except\" statement catches exception and \"try\" is used to test the code for error which is written in \"try\" statement"
   ]
  },
  {
   "cell_type": "code",
   "execution_count": null,
   "id": "daf671bc",
   "metadata": {},
   "outputs": [],
   "source": []
  }
 ],
 "metadata": {
  "kernelspec": {
   "display_name": "Python 3 (ipykernel)",
   "language": "python",
   "name": "python3"
  },
  "language_info": {
   "codemirror_mode": {
    "name": "ipython",
    "version": 3
   },
   "file_extension": ".py",
   "mimetype": "text/x-python",
   "name": "python",
   "nbconvert_exporter": "python",
   "pygments_lexer": "ipython3",
   "version": "3.9.7"
  }
 },
 "nbformat": 4,
 "nbformat_minor": 5
}
