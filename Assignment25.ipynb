{
 "cells": [
  {
   "cell_type": "markdown",
   "id": "92f03231",
   "metadata": {},
   "source": [
    "1.What is the difference between enclosing a list comprehension in square brackets and\n",
    "parentheses?\n"
   ]
  },
  {
   "cell_type": "markdown",
   "id": "c26355dd",
   "metadata": {},
   "source": [
    "list comprehension is enclosed in square bracket [x for x in y]\n",
    "\n",
    "generator expression is enclosed with plain parentheses"
   ]
  },
  {
   "cell_type": "markdown",
   "id": "90472268",
   "metadata": {},
   "source": [
    "2) What is the relationship between generators and iterators?\n"
   ]
  },
  {
   "cell_type": "markdown",
   "id": "135f20b6",
   "metadata": {},
   "source": [
    "Iterators are objects that uses next() method to get next value of Sequence\n",
    "\n",
    "Generator is a function that yields or produces the sequence of values using yield method"
   ]
  },
  {
   "cell_type": "markdown",
   "id": "3e49caf5",
   "metadata": {},
   "source": [
    "3.) What are the signs that a function is a generator function?\n"
   ]
  },
  {
   "cell_type": "markdown",
   "id": "28dbc467",
   "metadata": {},
   "source": [
    "In generator function yield is used "
   ]
  },
  {
   "cell_type": "markdown",
   "id": "9fa673c2",
   "metadata": {},
   "source": [
    "4) What is the purpose of a yield statement?\n"
   ]
  },
  {
   "cell_type": "markdown",
   "id": "7ed4e904",
   "metadata": {},
   "source": [
    "Yield is used like return operation in function. It returns a generator which can be iterated upon"
   ]
  },
  {
   "cell_type": "markdown",
   "id": "a753969e",
   "metadata": {},
   "source": [
    "5) What is the relationship between map calls and list comprehensions? Make a comparison and\n",
    "contrast between the two.\n"
   ]
  },
  {
   "cell_type": "markdown",
   "id": "dbe465eb",
   "metadata": {},
   "source": [
    "List comprehension has a simpler configuration than the map function.  \n",
    "\n",
    "List comprehension can be used together with if condition as replacement of filter method. Map function has no such functionality. However, we can feed the map function output to the filter function.  \n",
    "\n",
    "List comprehension returns a list, whereas the map function returns an object of Iterable. \n",
    "\n",
    "List comprehension execution is faster than that of map function when the formula expression is huge and complex. \n",
    "\n",
    "Map function is faster than list comprehension when the formula is already defined as a function earlier. So, that map function is used without lambda expression. "
   ]
  },
  {
   "cell_type": "code",
   "execution_count": null,
   "id": "6e48c96b",
   "metadata": {},
   "outputs": [],
   "source": []
  }
 ],
 "metadata": {
  "kernelspec": {
   "display_name": "Python 3 (ipykernel)",
   "language": "python",
   "name": "python3"
  },
  "language_info": {
   "codemirror_mode": {
    "name": "ipython",
    "version": 3
   },
   "file_extension": ".py",
   "mimetype": "text/x-python",
   "name": "python",
   "nbconvert_exporter": "python",
   "pygments_lexer": "ipython3",
   "version": "3.9.7"
  }
 },
 "nbformat": 4,
 "nbformat_minor": 5
}
