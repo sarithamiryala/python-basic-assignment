{
 "cells": [
  {
   "cell_type": "markdown",
   "id": "a90e9afc",
   "metadata": {},
   "source": [
    "Q1. Create an assert statement that throws an AssertionError if the variable spam is a negative\n",
    "integer."
   ]
  },
  {
   "cell_type": "code",
   "execution_count": 7,
   "id": "183d6e49",
   "metadata": {},
   "outputs": [
    {
     "name": "stdout",
     "output_type": "stream",
     "text": [
      "Enter the value of spam :  -6\n"
     ]
    },
    {
     "ename": "Exception",
     "evalue": "The number should be positive",
     "output_type": "error",
     "traceback": [
      "\u001b[1;31m---------------------------------------------------------------------------\u001b[0m",
      "\u001b[1;31mException\u001b[0m                                 Traceback (most recent call last)",
      "\u001b[1;32m~\\AppData\\Local\\Temp/ipykernel_32716/2071875210.py\u001b[0m in \u001b[0;36m<module>\u001b[1;34m\u001b[0m\n\u001b[0;32m      1\u001b[0m \u001b[0mspam\u001b[0m \u001b[1;33m=\u001b[0m \u001b[0mint\u001b[0m\u001b[1;33m(\u001b[0m\u001b[0minput\u001b[0m\u001b[1;33m(\u001b[0m\u001b[1;34m'Enter the value of spam :  '\u001b[0m\u001b[1;33m)\u001b[0m\u001b[1;33m)\u001b[0m\u001b[1;33m\u001b[0m\u001b[1;33m\u001b[0m\u001b[0m\n\u001b[0;32m      2\u001b[0m \u001b[1;32mif\u001b[0m \u001b[0mspam\u001b[0m \u001b[1;33m<\u001b[0m \u001b[1;36m0\u001b[0m\u001b[1;33m:\u001b[0m\u001b[1;33m\u001b[0m\u001b[1;33m\u001b[0m\u001b[0m\n\u001b[1;32m----> 3\u001b[1;33m     \u001b[1;32mraise\u001b[0m \u001b[0mException\u001b[0m\u001b[1;33m(\u001b[0m\u001b[1;34m'The number should be positive'\u001b[0m\u001b[1;33m)\u001b[0m\u001b[1;33m\u001b[0m\u001b[1;33m\u001b[0m\u001b[0m\n\u001b[0m",
      "\u001b[1;31mException\u001b[0m: The number should be positive"
     ]
    }
   ],
   "source": [
    "spam = int(input('Enter the value of spam :  '))\n",
    "if spam < 0:\n",
    "    raise Exception('The number should be positive')"
   ]
  },
  {
   "cell_type": "code",
   "execution_count": 6,
   "id": "9fcdaa9b",
   "metadata": {},
   "outputs": [
    {
     "name": "stdout",
     "output_type": "stream",
     "text": [
      "Enter the value of spam :  -5\n"
     ]
    },
    {
     "ename": "AssertionError",
     "evalue": "only positive numbers are allowed",
     "output_type": "error",
     "traceback": [
      "\u001b[1;31m---------------------------------------------------------------------------\u001b[0m",
      "\u001b[1;31mAssertionError\u001b[0m                            Traceback (most recent call last)",
      "\u001b[1;32m~\\AppData\\Local\\Temp/ipykernel_32716/3265139486.py\u001b[0m in \u001b[0;36m<module>\u001b[1;34m\u001b[0m\n\u001b[0;32m      1\u001b[0m \u001b[0mspam\u001b[0m \u001b[1;33m=\u001b[0m \u001b[0mint\u001b[0m\u001b[1;33m(\u001b[0m\u001b[0minput\u001b[0m\u001b[1;33m(\u001b[0m\u001b[1;34m'Enter the value of spam :  '\u001b[0m\u001b[1;33m)\u001b[0m\u001b[1;33m)\u001b[0m\u001b[1;33m\u001b[0m\u001b[1;33m\u001b[0m\u001b[0m\n\u001b[1;32m----> 2\u001b[1;33m \u001b[1;32massert\u001b[0m \u001b[0mspam\u001b[0m\u001b[1;33m>=\u001b[0m \u001b[1;36m0\u001b[0m\u001b[1;33m,\u001b[0m\u001b[1;34m'only positive numbers are allowed'\u001b[0m\u001b[1;33m\u001b[0m\u001b[1;33m\u001b[0m\u001b[0m\n\u001b[0m\u001b[0;32m      3\u001b[0m \u001b[0mprint\u001b[0m\u001b[1;33m(\u001b[0m\u001b[1;34m'spam is positive'\u001b[0m\u001b[1;33m)\u001b[0m\u001b[1;33m\u001b[0m\u001b[1;33m\u001b[0m\u001b[0m\n",
      "\u001b[1;31mAssertionError\u001b[0m: only positive numbers are allowed"
     ]
    }
   ],
   "source": [
    "spam = int(input('Enter the value of spam :  '))\n",
    "assert spam>= 0,'only positive numbers are allowed'\n",
    "print('spam is positive')"
   ]
  },
  {
   "cell_type": "markdown",
   "id": "12a4c3ea",
   "metadata": {},
   "source": [
    "2. Write an assert statement that triggers an AssertionError if the variables eggs and bacon \n",
    "contain strings that are the same as each other, even if their cases are different \n",
    "(that is, 'hello'; and 'hello'; are considered the same, and 'goodbye'; and 'GOODbye';\n",
    " are also considered the same).\n",
    " \n",
    " Ans: \n",
    " \n",
    " \n",
    " "
   ]
  },
  {
   "cell_type": "code",
   "execution_count": 2,
   "id": "8fce1a4a",
   "metadata": {},
   "outputs": [
    {
     "ename": "AssertionError",
     "evalue": "both strings are not equal",
     "output_type": "error",
     "traceback": [
      "\u001b[1;31m---------------------------------------------------------------------------\u001b[0m",
      "\u001b[1;31mAssertionError\u001b[0m                            Traceback (most recent call last)",
      "\u001b[1;32m~\\AppData\\Local\\Temp/ipykernel_15636/3964105945.py\u001b[0m in \u001b[0;36m<module>\u001b[1;34m\u001b[0m\n\u001b[0;32m      1\u001b[0m \u001b[0meggs\u001b[0m \u001b[1;33m=\u001b[0m \u001b[1;34m'hello'\u001b[0m\u001b[1;33m\u001b[0m\u001b[1;33m\u001b[0m\u001b[0m\n\u001b[0;32m      2\u001b[0m \u001b[0mbacon\u001b[0m \u001b[1;33m=\u001b[0m \u001b[1;34m'HEllo'\u001b[0m\u001b[1;33m\u001b[0m\u001b[1;33m\u001b[0m\u001b[0m\n\u001b[1;32m----> 3\u001b[1;33m \u001b[1;32massert\u001b[0m \u001b[0meggs\u001b[0m\u001b[1;33m==\u001b[0m\u001b[0mbacon\u001b[0m\u001b[1;33m,\u001b[0m \u001b[1;34m'both strings are not equal'\u001b[0m\u001b[1;33m\u001b[0m\u001b[1;33m\u001b[0m\u001b[0m\n\u001b[0m\u001b[0;32m      4\u001b[0m \u001b[0mprint\u001b[0m\u001b[1;33m(\u001b[0m\u001b[1;34m'strings are equal'\u001b[0m\u001b[1;33m)\u001b[0m\u001b[1;33m\u001b[0m\u001b[1;33m\u001b[0m\u001b[0m\n\u001b[0;32m      5\u001b[0m \u001b[1;33m\u001b[0m\u001b[0m\n",
      "\u001b[1;31mAssertionError\u001b[0m: both strings are not equal"
     ]
    }
   ],
   "source": [
    "eggs = 'hello'\n",
    "bacon = 'HEllo'\n",
    "assert eggs==bacon, 'both strings are not equal'\n",
    "print('strings are equal')\n",
    "        \n",
    "        \n"
   ]
  },
  {
   "cell_type": "markdown",
   "id": "78ee0350",
   "metadata": {},
   "source": [
    "Q3. Create an assert statement that throws an AssertionError every time.\n",
    "\n",
    "Ans:\n"
   ]
  },
  {
   "cell_type": "code",
   "execution_count": 11,
   "id": "68c83772",
   "metadata": {},
   "outputs": [
    {
     "ename": "AssertionError",
     "evalue": "this assertion always triggers",
     "output_type": "error",
     "traceback": [
      "\u001b[1;31m---------------------------------------------------------------------------\u001b[0m",
      "\u001b[1;31mAssertionError\u001b[0m                            Traceback (most recent call last)",
      "\u001b[1;32m~\\AppData\\Local\\Temp/ipykernel_32716/4032845787.py\u001b[0m in \u001b[0;36m<module>\u001b[1;34m\u001b[0m\n\u001b[1;32m----> 1\u001b[1;33m \u001b[1;32massert\u001b[0m \u001b[1;32mFalse\u001b[0m\u001b[1;33m,\u001b[0m \u001b[1;34m'this assertion always triggers'\u001b[0m\u001b[1;33m\u001b[0m\u001b[1;33m\u001b[0m\u001b[0m\n\u001b[0m",
      "\u001b[1;31mAssertionError\u001b[0m: this assertion always triggers"
     ]
    }
   ],
   "source": [
    "assert False, 'this assertion always triggers'"
   ]
  },
  {
   "cell_type": "markdown",
   "id": "b3aef45a",
   "metadata": {},
   "source": [
    "Q4. What are the two lines that must be present in your software in order to call logging.debug()? \n",
    "\n",
    "Ans: import logging\n",
    "\n",
    "\n",
    "     logging.basicConfig(level=logging.DEBUG, format=' %(asctime)s -  %(levelname)s - %message)s')\n"
   ]
  },
  {
   "cell_type": "markdown",
   "id": "6b52d901",
   "metadata": {},
   "source": [
    "Q5. What are the two lines that your program must have in order to have logging.debug() send a\n",
    "logging message to a file named programLog.txt?\n",
    "\n",
    "Ans: import logging \n",
    "\n",
    "   logging.basicConfig(filename='programLog.txt', level=logging.DEBUG, format=' %(asctime)s - %(levelname)s - %(message)s')"
   ]
  },
  {
   "cell_type": "markdown",
   "id": "19c2af7a",
   "metadata": {},
   "source": [
    "Q6. What are the five levels of logging?\n",
    "\n",
    "Ans: the five levels of logging are \n",
    "\n",
    "     1. Debug\n",
    "     \n",
    "     2. INFO\n",
    "     \n",
    "     3. Warning\n",
    "     \n",
    "     4. Error\n",
    "     \n",
    "     5. Critical    "
   ]
  },
  {
   "cell_type": "markdown",
   "id": "feec0e97",
   "metadata": {},
   "source": [
    "7. What line of code would you add to your software to disable all logging messages?\n",
    "\n",
    "Ans: logging.disable(logging.critical)"
   ]
  },
  {
   "cell_type": "markdown",
   "id": "870fc182",
   "metadata": {},
   "source": [
    "8.Why is using logging messages better than using print() to display the same message?\n",
    "\n",
    "Ans:  1. you can create logging messages\n",
    "\n",
    "     2. logging messages creates timestamp\n",
    "     \n",
    "      3. logging can be disabled without removing the logging function\n",
    "      \n",
    "      4. we can selectively disable lower level logging messages\n",
    "     \n"
   ]
  },
  {
   "cell_type": "markdown",
   "id": "54d38509",
   "metadata": {},
   "source": [
    "Q9. What are the differences between the Step Over, Step In, and Step Out buttons in the debugger?\n",
    "\n",
    "Ans: step over : this instruction will step over the current line of the code and take you to the next line.\n",
    "    step into the method shows what happened inside it, this option can be used when you are not sure the method is returning correct result.\n",
    "    step out:  step out of the current method and takes you to the caller method\n"
   ]
  },
  {
   "cell_type": "markdown",
   "id": "f204d50d",
   "metadata": {},
   "source": [
    "Q10.After you click Continue, when will the debugger stop ?\n",
    "\n",
    "Ans: the debugger stops at the end of the program or at the break point"
   ]
  },
  {
   "cell_type": "markdown",
   "id": "865c9d70",
   "metadata": {},
   "source": [
    "Q11. What is the concept of a breakpoint?\n",
    "\n",
    "Ans: after breakpoint  setting on a line of the code causes the debugger to pause when program excecution reaches this line"
   ]
  }
 ],
 "metadata": {
  "kernelspec": {
   "display_name": "Python 3 (ipykernel)",
   "language": "python",
   "name": "python3"
  },
  "language_info": {
   "codemirror_mode": {
    "name": "ipython",
    "version": 3
   },
   "file_extension": ".py",
   "mimetype": "text/x-python",
   "name": "python",
   "nbconvert_exporter": "python",
   "pygments_lexer": "ipython3",
   "version": "3.9.7"
  }
 },
 "nbformat": 4,
 "nbformat_minor": 5
}
