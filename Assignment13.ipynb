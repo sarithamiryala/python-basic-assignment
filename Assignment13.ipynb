{
 "cells": [
  {
   "cell_type": "markdown",
   "id": "e96f5079",
   "metadata": {},
   "source": [
    "1.What advantages do Excel spreadsheets have over CSV spreadsheets?\n"
   ]
  },
  {
   "cell_type": "markdown",
   "id": "c25612f6",
   "metadata": {},
   "source": [
    "Excel is superior over csv file\n",
    "\n",
    "csv files consumes less amount of data \n",
    "\n",
    "csv file does not manipluate data ans store it as is"
   ]
  },
  {
   "cell_type": "markdown",
   "id": "1eaffcda",
   "metadata": {},
   "source": [
    "2.What do you pass to csv.reader() and csv.writer() to create reader and writer objects?\n"
   ]
  },
  {
   "cell_type": "markdown",
   "id": "12455680",
   "metadata": {},
   "source": [
    "file "
   ]
  },
  {
   "cell_type": "markdown",
   "id": "905573ca",
   "metadata": {},
   "source": [
    "3. What modes do File objects for reader and writer objects need to be opened in?\n"
   ]
  },
  {
   "cell_type": "markdown",
   "id": "0e2df871",
   "metadata": {},
   "source": [
    "default file is opened in r mode i.e. read mode.\n",
    "'w' means write mode if already text is present in file it is truncated and new will bw written \n",
    "'x' creating and writing to new file\n",
    "'a' for appending"
   ]
  },
  {
   "cell_type": "markdown",
   "id": "a3fc85e0",
   "metadata": {},
   "source": [
    "4. What method takes a list argument and writes it to a CSV file?\n"
   ]
  },
  {
   "cell_type": "markdown",
   "id": "c3dded9b",
   "metadata": {},
   "source": [
    "csv.writer\n",
    "writerrow method is used to take a list arguments"
   ]
  },
  {
   "cell_type": "markdown",
   "id": "52cfc515",
   "metadata": {},
   "source": [
    "5. What do the keyword arguments delimiter and line terminator do?\n"
   ]
  },
  {
   "cell_type": "markdown",
   "id": "f3ba88c2",
   "metadata": {},
   "source": [
    "line terminator is a character that comes at the end of row.By default line terminator is new line\n",
    "\n",
    "we can can characters to different value using delimiter"
   ]
  },
  {
   "cell_type": "markdown",
   "id": "614e601b",
   "metadata": {},
   "source": [
    "6. What function takes a string of JSON data and returns a Python data structure?\n"
   ]
  },
  {
   "cell_type": "markdown",
   "id": "ac9a8ae8",
   "metadata": {},
   "source": [
    "loads() method takes a string of JSON data and returns a python data structure"
   ]
  },
  {
   "cell_type": "markdown",
   "id": "a0534651",
   "metadata": {},
   "source": [
    "7. What function takes a Python data structure and returns a string of JSON data?"
   ]
  },
  {
   "cell_type": "markdown",
   "id": "76706a13",
   "metadata": {},
   "source": [
    "json()"
   ]
  },
  {
   "cell_type": "code",
   "execution_count": null,
   "id": "3f490abb",
   "metadata": {},
   "outputs": [],
   "source": []
  }
 ],
 "metadata": {
  "kernelspec": {
   "display_name": "Python 3 (ipykernel)",
   "language": "python",
   "name": "python3"
  },
  "language_info": {
   "codemirror_mode": {
    "name": "ipython",
    "version": 3
   },
   "file_extension": ".py",
   "mimetype": "text/x-python",
   "name": "python",
   "nbconvert_exporter": "python",
   "pygments_lexer": "ipython3",
   "version": "3.9.7"
  }
 },
 "nbformat": 4,
 "nbformat_minor": 5
}
