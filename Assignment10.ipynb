{
 "cells": [
  {
   "cell_type": "markdown",
   "id": "34794286",
   "metadata": {},
   "source": [
    "Q1. How do you distinguish between shutil.copy() and shutil.copytree()?\n",
    "\n",
    "Ans:  shutil.copy() method copies a single file \n",
    "      shutil.copytree() method copies the entire folder and all the files in the folder\n",
    "\n",
    "\n",
    "Q2. What function is used to rename files?\n",
    "\n",
    "Ans: os.rename('sourcefile', 'destinationfile')\n",
    "\n",
    "\n",
    "\n",
    "Q3. What is the difference between the delete functions in the send2trash and shutil modules?\n",
    "\n",
    "Ans: delete('file') method deletes the file permanetly \n",
    "     send2trash('file') method deletes the file and moves to recycle bin\n",
    "\n",
    "\n",
    "Q4.ZipFile objects have a close() method just like File objects’ close() method. What ZipFile method is equivalent to File objects’ open() method?\n",
    "\n",
    "Ans:  To create a zip file ,just pass the name to ZipFile class it will create archive in current directory.\n",
    "import zipfile\n",
    "\n",
    "def main():\n",
    "\n",
    "    archive_name = 'ineuron_fsds.zip'\n",
    "    # below one line of code will create a 'Zip' in the current working directory\n",
    "    with zipfile.ZipFile(archive_name, 'w') as file:\n",
    "        print(\"{} is created.\".format(archive_name))\n",
    "\n",
    "if __name__ == '__main__': main()\n",
    "\n",
    "Q5.Create a programme that searches a folder tree for files with a certain file extension (such as .pdf or .jpg). Copy these files from whatever location they are in to a new folder.\n",
    "\n",
    "\n",
    "Ans: import re\n",
    "     import os\n",
    "     import shutil\n",
    "\n",
    "filePdf = re.compile(r\"\"\"^(.*?)          #text before extension\n",
    "          [.][p][d][f]                   #extension .pdf\n",
    "          \"\"\", re.VERBOSE)\n",
    "\n",
    "def selectiveCopy(fileExtension):\n",
    "    for pdfFiles in os.listdir(\"C:/Users/SAMARTH/Desktop/phd/papers\"):\n",
    "        locatedFiles = filePdf.search(pdfFiles)\n",
    "        if locatedFiles != None:\n",
    "            print(locatedFiles)\n",
    "            files_to_copy = os.path.join(\"C:/Users/SAMARTH/Desktop/phd/papers\", pdfFiles)   \n",
    "            shutil.copy(files_to_copy, \"C:/Users/SAMARTH/Desktop/phd/ineuron/basic python/python basic assignment\")   \n",
    "            print(\"The following file has been copied \" + files_to_copy)\n",
    "selectiveCopy(filePdf)\n",
    "\n"
   ]
  },
  {
   "cell_type": "code",
   "execution_count": 1,
   "id": "7d7ae5a7",
   "metadata": {},
   "outputs": [],
   "source": [
    "file1 = open('test2.txt','w')"
   ]
  },
  {
   "cell_type": "code",
   "execution_count": 3,
   "id": "a2418b10",
   "metadata": {},
   "outputs": [
    {
     "data": {
      "text/plain": [
       "31"
      ]
     },
     "execution_count": 3,
     "metadata": {},
     "output_type": "execute_result"
    }
   ],
   "source": [
    "file1.write('ndcvjhfhjdmkjcjjkvmdkvjkgsflslk')"
   ]
  },
  {
   "cell_type": "code",
   "execution_count": 5,
   "id": "c332e4a2",
   "metadata": {},
   "outputs": [],
   "source": [
    "file1.close()"
   ]
  },
  {
   "cell_type": "code",
   "execution_count": 6,
   "id": "3f369391",
   "metadata": {},
   "outputs": [],
   "source": [
    "import os"
   ]
  },
  {
   "cell_type": "code",
   "execution_count": 7,
   "id": "7e995360",
   "metadata": {},
   "outputs": [],
   "source": [
    "os.rename('test2.txt','change_test2.txt')"
   ]
  },
  {
   "cell_type": "code",
   "execution_count": 9,
   "id": "6038b473",
   "metadata": {},
   "outputs": [
    {
     "name": "stdout",
     "output_type": "stream",
     "text": [
      "ineuron_fsds.zip is created.\n"
     ]
    }
   ],
   "source": [
    "import zipfile\n",
    "\n",
    "def main():\n",
    "\n",
    "    archive_name = 'ineuron_fsds.zip'\n",
    "    # below one line of code will create a 'Zip' in the current working directory\n",
    "    with zipfile.ZipFile(archive_name, 'w') as file:\n",
    "        print(\"{} is created.\".format(archive_name))\n",
    "\n",
    "if __name__ == '__main__': main()"
   ]
  },
  {
   "cell_type": "code",
   "execution_count": 25,
   "id": "ec585bd4",
   "metadata": {},
   "outputs": [
    {
     "name": "stdout",
     "output_type": "stream",
     "text": [
      "<re.Match object; span=(0, 7), match='abc.pdf'>\n",
      "The following file has been copied C:/Users/SAMARTH/Desktop/phd/papers\\abc.pdf\n",
      "<re.Match object; span=(0, 16), match='breastcancer.pdf'>\n",
      "The following file has been copied C:/Users/SAMARTH/Desktop/phd/papers\\breastcancer.pdf\n"
     ]
    }
   ],
   "source": [
    "import re\n",
    "import os\n",
    "import shutil\n",
    "\n",
    "filePdf = re.compile(r\"\"\"^(.*?)          #text before extension\n",
    "          [.][p][d][f]                   #extension .pdf\n",
    "          \"\"\", re.VERBOSE)\n",
    "\n",
    "def selectiveCopy(fileExtension):\n",
    "    for pdfFiles in os.listdir(\"C:/Users/SAMARTH/Desktop/phd/papers\"):\n",
    "        locatedFiles = filePdf.search(pdfFiles)\n",
    "        if locatedFiles != None:\n",
    "            print(locatedFiles)\n",
    "            files_to_copy = os.path.join(\"C:/Users/SAMARTH/Desktop/phd/papers\", pdfFiles)   \n",
    "            shutil.copy(files_to_copy, \"C:/Users/SAMARTH/Desktop/phd/ineuron/basic python/python basic assignment\")   \n",
    "            print(\"The following file has been copied \" + files_to_copy)\n",
    "selectiveCopy(filePdf)\n"
   ]
  },
  {
   "cell_type": "code",
   "execution_count": null,
   "id": "8186a55d",
   "metadata": {},
   "outputs": [],
   "source": []
  }
 ],
 "metadata": {
  "kernelspec": {
   "display_name": "Python 3 (ipykernel)",
   "language": "python",
   "name": "python3"
  },
  "language_info": {
   "codemirror_mode": {
    "name": "ipython",
    "version": 3
   },
   "file_extension": ".py",
   "mimetype": "text/x-python",
   "name": "python",
   "nbconvert_exporter": "python",
   "pygments_lexer": "ipython3",
   "version": "3.9.7"
  }
 },
 "nbformat": 4,
 "nbformat_minor": 5
}
