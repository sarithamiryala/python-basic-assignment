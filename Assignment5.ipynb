{
 "cells": [
  {
   "cell_type": "markdown",
   "id": "0fe601e9",
   "metadata": {},
   "source": [
    "1. What does an empty dictionary&#39;s code look like?"
   ]
  },
  {
   "cell_type": "code",
   "execution_count": 1,
   "id": "aeab6c4a",
   "metadata": {},
   "outputs": [],
   "source": [
    "d = {}"
   ]
  },
  {
   "cell_type": "code",
   "execution_count": 2,
   "id": "c8e692ca",
   "metadata": {},
   "outputs": [
    {
     "data": {
      "text/plain": [
       "{}"
      ]
     },
     "execution_count": 2,
     "metadata": {},
     "output_type": "execute_result"
    }
   ],
   "source": [
    "d"
   ]
  },
  {
   "cell_type": "markdown",
   "id": "29964d40",
   "metadata": {},
   "source": [
    "2. What is the value of a dictionary value with the key &#39;foo&#39; and the value 42?"
   ]
  },
  {
   "cell_type": "code",
   "execution_count": 3,
   "id": "e8b01044",
   "metadata": {},
   "outputs": [],
   "source": [
    " d = {'foo': 42}"
   ]
  },
  {
   "cell_type": "code",
   "execution_count": 5,
   "id": "43a2b0de",
   "metadata": {},
   "outputs": [
    {
     "data": {
      "text/plain": [
       "dict_values([42])"
      ]
     },
     "execution_count": 5,
     "metadata": {},
     "output_type": "execute_result"
    }
   ],
   "source": [
    "d.values()"
   ]
  },
  {
   "cell_type": "markdown",
   "id": "0c2f0910",
   "metadata": {},
   "source": [
    "3. What is the most significant distinction between a dictionary and a list?"
   ]
  },
  {
   "cell_type": "code",
   "execution_count": null,
   "id": "2406ef89",
   "metadata": {},
   "outputs": [],
   "source": [
    "list are defined using []\n",
    "dictionary is defined using {}\n",
    "list are indexed by numbers 0 to n-1\n",
    "dictionaries are index by keys"
   ]
  },
  {
   "cell_type": "markdown",
   "id": "893beffd",
   "metadata": {},
   "source": [
    "Q4. What happens if you try to access spam['foo'] if spam is {'bar': 100}?"
   ]
  },
  {
   "cell_type": "code",
   "execution_count": 7,
   "id": "eaaa8a8f",
   "metadata": {},
   "outputs": [],
   "source": [
    "spam = {'bar':100}"
   ]
  },
  {
   "cell_type": "code",
   "execution_count": 8,
   "id": "4cb0510a",
   "metadata": {},
   "outputs": [
    {
     "ename": "KeyError",
     "evalue": "'foo'",
     "output_type": "error",
     "traceback": [
      "\u001b[1;31m---------------------------------------------------------------------------\u001b[0m",
      "\u001b[1;31mKeyError\u001b[0m                                  Traceback (most recent call last)",
      "\u001b[1;32m~\\AppData\\Local\\Temp/ipykernel_26432/3999281786.py\u001b[0m in \u001b[0;36m<module>\u001b[1;34m\u001b[0m\n\u001b[1;32m----> 1\u001b[1;33m \u001b[0mspam\u001b[0m\u001b[1;33m[\u001b[0m\u001b[1;34m'foo'\u001b[0m\u001b[1;33m]\u001b[0m\u001b[1;33m\u001b[0m\u001b[1;33m\u001b[0m\u001b[0m\n\u001b[0m",
      "\u001b[1;31mKeyError\u001b[0m: 'foo'"
     ]
    }
   ],
   "source": [
    "spam['foo']"
   ]
  },
  {
   "cell_type": "code",
   "execution_count": 2,
   "id": "de23d843",
   "metadata": {},
   "outputs": [],
   "source": [
    "# Q5 cat is stored in the dictionary  spam\n",
    "# it will search wheather any key is there as 'cat' in the dictionary\n",
    "\n",
    "# whereas spam.key() will check wheather any key is there as 'cat'\n"
   ]
  },
  {
   "cell_type": "code",
   "execution_count": 3,
   "id": "1e3b34df",
   "metadata": {},
   "outputs": [],
   "source": [
    "#Q6 cat is stored in the dictionary  spam\n",
    "# it will search wheather any key is there as 'cat' in the dictionary\n",
    "\n",
    "# whereas spam.value() will check wheather any key has a value  as 'cat'\n"
   ]
  },
  {
   "cell_type": "code",
   "execution_count": 5,
   "id": "993ae1db",
   "metadata": {},
   "outputs": [],
   "source": [
    "#Q7 \n",
    "# spam['color'] = 'black'"
   ]
  },
  {
   "cell_type": "code",
   "execution_count": null,
   "id": "36e9bfa6",
   "metadata": {},
   "outputs": [],
   "source": [
    "#Q8 pprint() is used to  pretty print dictionary values"
   ]
  }
 ],
 "metadata": {
  "kernelspec": {
   "display_name": "Python 3 (ipykernel)",
   "language": "python",
   "name": "python3"
  },
  "language_info": {
   "codemirror_mode": {
    "name": "ipython",
    "version": 3
   },
   "file_extension": ".py",
   "mimetype": "text/x-python",
   "name": "python",
   "nbconvert_exporter": "python",
   "pygments_lexer": "ipython3",
   "version": "3.9.7"
  }
 },
 "nbformat": 4,
 "nbformat_minor": 5
}
