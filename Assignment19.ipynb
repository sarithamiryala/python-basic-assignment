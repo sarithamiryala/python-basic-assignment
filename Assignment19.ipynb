{
 "cells": [
  {
   "cell_type": "markdown",
   "id": "a5136f4e",
   "metadata": {},
   "source": [
    "1.Make a class called Thing with no contents and print it. Then, create an object called example\n",
    "from this class and also print it. Are the printed values the same or different?\n"
   ]
  },
  {
   "cell_type": "markdown",
   "id": "2e5b0232",
   "metadata": {},
   "source": [
    "Ans: print(Thing) prints about class \n",
    "\n",
    "     print(example) prints about object\n",
    "     \n",
    "    both are not same"
   ]
  },
  {
   "cell_type": "code",
   "execution_count": 7,
   "id": "3216db3b",
   "metadata": {},
   "outputs": [
    {
     "name": "stdout",
     "output_type": "stream",
     "text": [
      "<class '__main__.Thing'>\n",
      "<__main__.Thing object at 0x00000126C44C1970>\n"
     ]
    }
   ],
   "source": [
    "class Thing:\n",
    "    pass\n",
    "print(Thing)\n",
    "example = Thing()\n",
    "print(example)"
   ]
  },
  {
   "cell_type": "markdown",
   "id": "9bb35b35",
   "metadata": {},
   "source": [
    "2. Create a new class called Thing2 and add the value &#39;abc&#39; to the letters class attribute. Letters\n",
    "should be printed.\n"
   ]
  },
  {
   "cell_type": "code",
   "execution_count": 13,
   "id": "b695940c",
   "metadata": {},
   "outputs": [
    {
     "data": {
      "text/plain": [
       "'abc'"
      ]
     },
     "execution_count": 13,
     "metadata": {},
     "output_type": "execute_result"
    }
   ],
   "source": [
    "class Thing2:\n",
    "    letters = 'abc'\n",
    "Thing2.letters"
   ]
  },
  {
   "cell_type": "markdown",
   "id": "dc3718c2",
   "metadata": {},
   "source": [
    "3. Make yet another class called, of course, Thing3. This time, assign the value &#39;xyz&#39; to an instance\n",
    "(object) attribute called letters. Print letters. Do you need to make an object from the class to do\n",
    "this?\n"
   ]
  },
  {
   "cell_type": "code",
   "execution_count": 14,
   "id": "7babedee",
   "metadata": {},
   "outputs": [
    {
     "name": "stdout",
     "output_type": "stream",
     "text": [
      "xyz\n"
     ]
    }
   ],
   "source": [
    "class Thing3:\n",
    "    def __init__(self,letter):\n",
    "        self.l = letter\n",
    "    def letter(self):\n",
    "        print(self.l)\n",
    "Thing3('xyz').letter()"
   ]
  },
  {
   "cell_type": "markdown",
   "id": "79e9c788",
   "metadata": {},
   "source": [
    "4. Create an Element class with the instance attributes name, symbol, and number. Create a class\n",
    "object with the values &#39;Hydrogen,&#39; &#39;H,&#39; and 1.\n"
   ]
  },
  {
   "cell_type": "code",
   "execution_count": 27,
   "id": "86adfb5a",
   "metadata": {},
   "outputs": [
    {
     "data": {
      "text/plain": [
       "'Hydrogen'"
      ]
     },
     "execution_count": 27,
     "metadata": {},
     "output_type": "execute_result"
    }
   ],
   "source": [
    "class Element:\n",
    "    def __init__(self,name,symbol,number):\n",
    "        self.n= name\n",
    "        self.s = symbol\n",
    "        self.num = number\n",
    "    def printelements():\n",
    "        print(self.n,self.s,self.num)\n",
    "obj3 = Element('Hydrogen','H',1)\n",
    "obj3.n"
   ]
  },
  {
   "cell_type": "markdown",
   "id": "c8389db8",
   "metadata": {},
   "source": [
    "5. Make a dictionary with these keys and values: &#39;name&#39;: &#39;Hydrogen&#39;, &#39;symbol&#39;: &#39;H&#39;, &#39;number&#39;: 1. Then,\n",
    "create an object called hydrogen from class Element using this dictionary.\n"
   ]
  },
  {
   "cell_type": "code",
   "execution_count": 28,
   "id": "9d3245ba",
   "metadata": {},
   "outputs": [
    {
     "data": {
      "text/plain": [
       "'Hydrogen'"
      ]
     },
     "execution_count": 28,
     "metadata": {},
     "output_type": "execute_result"
    }
   ],
   "source": [
    "dict = {'name': 'Hydrogen','symbol':'H','number': 1}\n",
    "Hydrogen = Element(**dict)\n",
    "Hydrogen.n"
   ]
  },
  {
   "cell_type": "markdown",
   "id": "ea1fb978",
   "metadata": {},
   "source": [
    "6. For the Element class, define a method called dump() that prints the values of the object’s\n",
    "attributes (name, symbol, and number). Create the hydrogen object from this new definition and\n",
    "use dump() to print its attributes.\n"
   ]
  },
  {
   "cell_type": "code",
   "execution_count": 29,
   "id": "d5957182",
   "metadata": {},
   "outputs": [],
   "source": [
    "class Element:\n",
    "    def __init__(self,name,symbol,number):\n",
    "        self.n= name\n",
    "        self.s = symbol\n",
    "        self.num = number\n",
    "    def dump(self):\n",
    "        print(self.n,self.s,self.num)\n"
   ]
  },
  {
   "cell_type": "code",
   "execution_count": 31,
   "id": "18bcd247",
   "metadata": {},
   "outputs": [
    {
     "data": {
      "text/plain": [
       "'H'"
      ]
     },
     "execution_count": 31,
     "metadata": {},
     "output_type": "execute_result"
    }
   ],
   "source": [
    "hydrogen = Element(\"Hydrogen\",'H',1)\n",
    "hydrogen.n\n",
    "hydrogen.s"
   ]
  },
  {
   "cell_type": "markdown",
   "id": "3388b779",
   "metadata": {},
   "source": [
    "7. Call print(hydrogen). In the definition of Element, change the name of method dump to __str__,\n",
    "create a new hydrogen object, and call print(hydrogen) again.\n"
   ]
  },
  {
   "cell_type": "code",
   "execution_count": 32,
   "id": "22c5b2e0",
   "metadata": {},
   "outputs": [
    {
     "name": "stdout",
     "output_type": "stream",
     "text": [
      "<__main__.Element object at 0x00000126C45AFDF0>\n"
     ]
    }
   ],
   "source": [
    "print(hydrogen)"
   ]
  },
  {
   "cell_type": "code",
   "execution_count": 57,
   "id": "938a76aa",
   "metadata": {},
   "outputs": [],
   "source": [
    "class Element:\n",
    "    def __init__(self,name,symbol,number):\n",
    "        self.n= name\n",
    "        self.s = symbol\n",
    "        self.num = number\n",
    "    def __str__(self):\n",
    "        return('name = %s,symbol=%s,number=%s'%(self.n, self.s, self.num))\n",
    "        \n",
    "    "
   ]
  },
  {
   "cell_type": "code",
   "execution_count": 58,
   "id": "c11653b5",
   "metadata": {},
   "outputs": [
    {
     "name": "stdout",
     "output_type": "stream",
     "text": [
      "name = Hydrogen,symbol=H,number=1\n"
     ]
    }
   ],
   "source": [
    "hydrogen = Element('Hydrogen','H',1)\n",
    "print(hydrogen)"
   ]
  },
  {
   "cell_type": "markdown",
   "id": "2afd57a1",
   "metadata": {},
   "source": [
    "8. Modify Element to make the attributes name, symbol, and number private. Define a getter\n",
    "property for each to return its value.\n"
   ]
  },
  {
   "cell_type": "code",
   "execution_count": 1,
   "id": "1daf2929",
   "metadata": {},
   "outputs": [],
   "source": [
    "class Element:\n",
    "    def __init__(self,name,symbol,number):\n",
    "        self.__n= name\n",
    "        self.__s = symbol\n",
    "        self.__num = number\n",
    "    @property\n",
    "    def name(self):\n",
    "        return(self.__n)\n",
    "    @property\n",
    "    def symbol(self):\n",
    "        return(self.__s)\n",
    "    @property\n",
    "    def number(self):\n",
    "        return(self.__num)"
   ]
  },
  {
   "cell_type": "code",
   "execution_count": 7,
   "id": "5bb5a4b4",
   "metadata": {},
   "outputs": [
    {
     "name": "stdout",
     "output_type": "stream",
     "text": [
      "Hydrogen\n",
      "H\n"
     ]
    }
   ],
   "source": [
    "hydrogen= Element('Hydrogen','H',1)\n",
    "print(hydrogen.name)\n",
    "print(hydrogen.symbol)"
   ]
  },
  {
   "cell_type": "markdown",
   "id": "d75248d6",
   "metadata": {},
   "source": [
    "9. Define three classes: Bear, Rabbit, and Octothorpe. For each, define only one method: eats(). This\n",
    "should return &#39;berries&#39; (Bear), &#39;clover&#39; (Rabbit), or &#39;campers&#39; (Octothorpe). Create one object from\n",
    "each and print what it eats.\n"
   ]
  },
  {
   "cell_type": "code",
   "execution_count": 8,
   "id": "434c0ac2",
   "metadata": {},
   "outputs": [],
   "source": [
    "class Bear:\n",
    "    def eats():\n",
    "        return('berries')\n",
    "    \n",
    "class Rabbit:\n",
    "    def eats():\n",
    "        return('clover')\n",
    "    \n",
    "class Octothorpe:\n",
    "    def eats():\n",
    "        return('campers')\n",
    "    "
   ]
  },
  {
   "cell_type": "code",
   "execution_count": 9,
   "id": "7624ff34",
   "metadata": {},
   "outputs": [
    {
     "data": {
      "text/plain": [
       "'berries'"
      ]
     },
     "execution_count": 9,
     "metadata": {},
     "output_type": "execute_result"
    }
   ],
   "source": [
    "Bear.eats()"
   ]
  },
  {
   "cell_type": "code",
   "execution_count": 10,
   "id": "41496b97",
   "metadata": {},
   "outputs": [
    {
     "data": {
      "text/plain": [
       "'clover'"
      ]
     },
     "execution_count": 10,
     "metadata": {},
     "output_type": "execute_result"
    }
   ],
   "source": [
    "Rabbit.eats()"
   ]
  },
  {
   "cell_type": "code",
   "execution_count": 12,
   "id": "6bc36eb2",
   "metadata": {},
   "outputs": [
    {
     "data": {
      "text/plain": [
       "'campers'"
      ]
     },
     "execution_count": 12,
     "metadata": {},
     "output_type": "execute_result"
    }
   ],
   "source": [
    "Octothorpe.eats()"
   ]
  },
  {
   "cell_type": "markdown",
   "id": "269a65a3",
   "metadata": {},
   "source": [
    "10. Define these classes: Laser, Claw, and SmartPhone. Each has only one method: does(). This\n",
    "returns &#39;disintegrate&#39; (Laser), &#39;crush&#39; (Claw), or &#39;ring&#39; (SmartPhone). Then, define the class Robot that\n",
    "has one instance (object) of each of these. Define a does() method for the Robot that prints what its\n",
    "component objects do."
   ]
  },
  {
   "cell_type": "code",
   "execution_count": 17,
   "id": "1a6a3bdf",
   "metadata": {},
   "outputs": [],
   "source": [
    "class Laser:\n",
    "    def does():\n",
    "        return('disintegrate')\n",
    "class Claw:\n",
    "    def does():\n",
    "        return('crush')\n",
    "class SmartPhone:\n",
    "    def does():\n",
    "        return('ring')"
   ]
  },
  {
   "cell_type": "code",
   "execution_count": 44,
   "id": "75177518",
   "metadata": {},
   "outputs": [],
   "source": [
    "class Robot:\n",
    "    def __init__(self):\n",
    "        self.laser= Laser()\n",
    "        self.claw =Claw()\n",
    "        self.smartphone = SmartPhone()\n",
    "    def does(self):\n",
    "        return('Laser = %s,claw =%s,smartphone=%s'%(self.laser.does(),self.claw.does(), self.smartphone.does())) \n",
    "        "
   ]
  },
  {
   "cell_type": "code",
   "execution_count": 45,
   "id": "e369daeb",
   "metadata": {},
   "outputs": [],
   "source": [
    "robot = Robot()"
   ]
  },
  {
   "cell_type": "code",
   "execution_count": 46,
   "id": "cb61c714",
   "metadata": {},
   "outputs": [
    {
     "data": {
      "text/plain": [
       "'Laser = disitegrate,claw =crush,smartphone=ring'"
      ]
     },
     "execution_count": 46,
     "metadata": {},
     "output_type": "execute_result"
    }
   ],
   "source": [
    "robot.does()"
   ]
  },
  {
   "cell_type": "code",
   "execution_count": 38,
   "id": "79625cba",
   "metadata": {},
   "outputs": [],
   "source": []
  },
  {
   "cell_type": "code",
   "execution_count": 39,
   "id": "102bc14e",
   "metadata": {},
   "outputs": [],
   "source": []
  },
  {
   "cell_type": "code",
   "execution_count": 40,
   "id": "508ea926",
   "metadata": {},
   "outputs": [
    {
     "data": {
      "text/plain": [
       "'Laser is disitegrate, Claw is crush, SmartPhone is ring'"
      ]
     },
     "execution_count": 40,
     "metadata": {},
     "output_type": "execute_result"
    }
   ],
   "source": []
  },
  {
   "cell_type": "code",
   "execution_count": null,
   "id": "f7e85b24",
   "metadata": {},
   "outputs": [],
   "source": []
  }
 ],
 "metadata": {
  "kernelspec": {
   "display_name": "Python 3 (ipykernel)",
   "language": "python",
   "name": "python3"
  },
  "language_info": {
   "codemirror_mode": {
    "name": "ipython",
    "version": 3
   },
   "file_extension": ".py",
   "mimetype": "text/x-python",
   "name": "python",
   "nbconvert_exporter": "python",
   "pygments_lexer": "ipython3",
   "version": "3.9.7"
  }
 },
 "nbformat": 4,
 "nbformat_minor": 5
}
